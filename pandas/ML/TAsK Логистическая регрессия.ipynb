{
 "cells": [
  {
   "cell_type": "code",
   "execution_count": 95,
   "metadata": {
    "collapsed": true
   },
   "outputs": [],
   "source": [
    "import pandas as pd\n",
    "import numpy as np\n",
    "import matplotlib.pyplot as plt\n",
    "import seaborn as sns\n",
    "%matplotlib inline"
   ]
  },
  {
   "cell_type": "code",
   "execution_count": 96,
   "outputs": [],
   "source": [
    "advertising = pd.read_csv('advertising.csv')"
   ],
   "metadata": {
    "collapsed": false,
    "pycharm": {
     "name": "#%%\n"
    }
   }
  },
  {
   "cell_type": "code",
   "execution_count": 97,
   "outputs": [
    {
     "data": {
      "text/plain": "   Daily Time Spent on Site  Age  Area Income  Daily Internet Usage  \\\n0                     68.95   35     61833.90                256.09   \n1                     80.23   31     68441.85                193.77   \n2                     69.47   26     59785.94                236.50   \n3                     74.15   29     54806.18                245.89   \n4                     68.37   35     73889.99                225.58   \n\n                           Ad Topic Line            City  Male     Country  \\\n0     Cloned 5thgeneration orchestration     Wrightburgh     0     Tunisia   \n1     Monitored national standardization       West Jodi     1       Nauru   \n2       Organic bottom-line service-desk        Davidton     0  San Marino   \n3  Triple-buffered reciprocal time-frame  West Terrifurt     1       Italy   \n4          Robust logistical utilization    South Manuel     0     Iceland   \n\n             Timestamp  Clicked on Ad  \n0  2016-03-27 00:53:11              0  \n1  2016-04-04 01:39:02              0  \n2  2016-03-13 20:35:42              0  \n3  2016-01-10 02:31:19              0  \n4  2016-06-03 03:36:18              0  ",
      "text/html": "<div>\n<style scoped>\n    .dataframe tbody tr th:only-of-type {\n        vertical-align: middle;\n    }\n\n    .dataframe tbody tr th {\n        vertical-align: top;\n    }\n\n    .dataframe thead th {\n        text-align: right;\n    }\n</style>\n<table border=\"1\" class=\"dataframe\">\n  <thead>\n    <tr style=\"text-align: right;\">\n      <th></th>\n      <th>Daily Time Spent on Site</th>\n      <th>Age</th>\n      <th>Area Income</th>\n      <th>Daily Internet Usage</th>\n      <th>Ad Topic Line</th>\n      <th>City</th>\n      <th>Male</th>\n      <th>Country</th>\n      <th>Timestamp</th>\n      <th>Clicked on Ad</th>\n    </tr>\n  </thead>\n  <tbody>\n    <tr>\n      <th>0</th>\n      <td>68.95</td>\n      <td>35</td>\n      <td>61833.90</td>\n      <td>256.09</td>\n      <td>Cloned 5thgeneration orchestration</td>\n      <td>Wrightburgh</td>\n      <td>0</td>\n      <td>Tunisia</td>\n      <td>2016-03-27 00:53:11</td>\n      <td>0</td>\n    </tr>\n    <tr>\n      <th>1</th>\n      <td>80.23</td>\n      <td>31</td>\n      <td>68441.85</td>\n      <td>193.77</td>\n      <td>Monitored national standardization</td>\n      <td>West Jodi</td>\n      <td>1</td>\n      <td>Nauru</td>\n      <td>2016-04-04 01:39:02</td>\n      <td>0</td>\n    </tr>\n    <tr>\n      <th>2</th>\n      <td>69.47</td>\n      <td>26</td>\n      <td>59785.94</td>\n      <td>236.50</td>\n      <td>Organic bottom-line service-desk</td>\n      <td>Davidton</td>\n      <td>0</td>\n      <td>San Marino</td>\n      <td>2016-03-13 20:35:42</td>\n      <td>0</td>\n    </tr>\n    <tr>\n      <th>3</th>\n      <td>74.15</td>\n      <td>29</td>\n      <td>54806.18</td>\n      <td>245.89</td>\n      <td>Triple-buffered reciprocal time-frame</td>\n      <td>West Terrifurt</td>\n      <td>1</td>\n      <td>Italy</td>\n      <td>2016-01-10 02:31:19</td>\n      <td>0</td>\n    </tr>\n    <tr>\n      <th>4</th>\n      <td>68.37</td>\n      <td>35</td>\n      <td>73889.99</td>\n      <td>225.58</td>\n      <td>Robust logistical utilization</td>\n      <td>South Manuel</td>\n      <td>0</td>\n      <td>Iceland</td>\n      <td>2016-06-03 03:36:18</td>\n      <td>0</td>\n    </tr>\n  </tbody>\n</table>\n</div>"
     },
     "execution_count": 97,
     "metadata": {},
     "output_type": "execute_result"
    }
   ],
   "source": [
    "advertising.head(5)"
   ],
   "metadata": {
    "collapsed": false,
    "pycharm": {
     "name": "#%%\n"
    }
   }
  },
  {
   "cell_type": "code",
   "execution_count": 98,
   "outputs": [
    {
     "data": {
      "text/plain": "<bound method DataFrame.info of      Daily Time Spent on Site  Age  Area Income  Daily Internet Usage  \\\n0                       68.95   35     61833.90                256.09   \n1                       80.23   31     68441.85                193.77   \n2                       69.47   26     59785.94                236.50   \n3                       74.15   29     54806.18                245.89   \n4                       68.37   35     73889.99                225.58   \n..                        ...  ...          ...                   ...   \n995                     72.97   30     71384.57                208.58   \n996                     51.30   45     67782.17                134.42   \n997                     51.63   51     42415.72                120.37   \n998                     55.55   19     41920.79                187.95   \n999                     45.01   26     29875.80                178.35   \n\n                             Ad Topic Line            City  Male  \\\n0       Cloned 5thgeneration orchestration     Wrightburgh     0   \n1       Monitored national standardization       West Jodi     1   \n2         Organic bottom-line service-desk        Davidton     0   \n3    Triple-buffered reciprocal time-frame  West Terrifurt     1   \n4            Robust logistical utilization    South Manuel     0   \n..                                     ...             ...   ...   \n995          Fundamental modular algorithm       Duffystad     1   \n996        Grass-roots cohesive monitoring     New Darlene     1   \n997           Expanded intangible solution   South Jessica     1   \n998   Proactive bandwidth-monitored policy     West Steven     0   \n999        Virtual 5thgeneration emulation     Ronniemouth     0   \n\n                    Country            Timestamp  Clicked on Ad  \n0                   Tunisia  2016-03-27 00:53:11              0  \n1                     Nauru  2016-04-04 01:39:02              0  \n2                San Marino  2016-03-13 20:35:42              0  \n3                     Italy  2016-01-10 02:31:19              0  \n4                   Iceland  2016-06-03 03:36:18              0  \n..                      ...                  ...            ...  \n995                 Lebanon  2016-02-11 21:49:00              1  \n996  Bosnia and Herzegovina  2016-04-22 02:07:01              1  \n997                Mongolia  2016-02-01 17:24:57              1  \n998               Guatemala  2016-03-24 02:35:54              0  \n999                  Brazil  2016-06-03 21:43:21              1  \n\n[1000 rows x 10 columns]>"
     },
     "execution_count": 98,
     "metadata": {},
     "output_type": "execute_result"
    }
   ],
   "source": [
    "advertising.info"
   ],
   "metadata": {
    "collapsed": false,
    "pycharm": {
     "name": "#%%\n"
    }
   }
  },
  {
   "cell_type": "code",
   "execution_count": 99,
   "outputs": [
    {
     "data": {
      "text/plain": "       Daily Time Spent on Site          Age   Area Income  \\\ncount               1000.000000  1000.000000   1000.000000   \nmean                  65.000200    36.009000  55000.000080   \nstd                   15.853615     8.785562  13414.634022   \nmin                   32.600000    19.000000  13996.500000   \n25%                   51.360000    29.000000  47031.802500   \n50%                   68.215000    35.000000  57012.300000   \n75%                   78.547500    42.000000  65470.635000   \nmax                   91.430000    61.000000  79484.800000   \n\n       Daily Internet Usage         Male  Clicked on Ad  \ncount           1000.000000  1000.000000     1000.00000  \nmean             180.000100     0.481000        0.50000  \nstd               43.902339     0.499889        0.50025  \nmin              104.780000     0.000000        0.00000  \n25%              138.830000     0.000000        0.00000  \n50%              183.130000     0.000000        0.50000  \n75%              218.792500     1.000000        1.00000  \nmax              269.960000     1.000000        1.00000  ",
      "text/html": "<div>\n<style scoped>\n    .dataframe tbody tr th:only-of-type {\n        vertical-align: middle;\n    }\n\n    .dataframe tbody tr th {\n        vertical-align: top;\n    }\n\n    .dataframe thead th {\n        text-align: right;\n    }\n</style>\n<table border=\"1\" class=\"dataframe\">\n  <thead>\n    <tr style=\"text-align: right;\">\n      <th></th>\n      <th>Daily Time Spent on Site</th>\n      <th>Age</th>\n      <th>Area Income</th>\n      <th>Daily Internet Usage</th>\n      <th>Male</th>\n      <th>Clicked on Ad</th>\n    </tr>\n  </thead>\n  <tbody>\n    <tr>\n      <th>count</th>\n      <td>1000.000000</td>\n      <td>1000.000000</td>\n      <td>1000.000000</td>\n      <td>1000.000000</td>\n      <td>1000.000000</td>\n      <td>1000.00000</td>\n    </tr>\n    <tr>\n      <th>mean</th>\n      <td>65.000200</td>\n      <td>36.009000</td>\n      <td>55000.000080</td>\n      <td>180.000100</td>\n      <td>0.481000</td>\n      <td>0.50000</td>\n    </tr>\n    <tr>\n      <th>std</th>\n      <td>15.853615</td>\n      <td>8.785562</td>\n      <td>13414.634022</td>\n      <td>43.902339</td>\n      <td>0.499889</td>\n      <td>0.50025</td>\n    </tr>\n    <tr>\n      <th>min</th>\n      <td>32.600000</td>\n      <td>19.000000</td>\n      <td>13996.500000</td>\n      <td>104.780000</td>\n      <td>0.000000</td>\n      <td>0.00000</td>\n    </tr>\n    <tr>\n      <th>25%</th>\n      <td>51.360000</td>\n      <td>29.000000</td>\n      <td>47031.802500</td>\n      <td>138.830000</td>\n      <td>0.000000</td>\n      <td>0.00000</td>\n    </tr>\n    <tr>\n      <th>50%</th>\n      <td>68.215000</td>\n      <td>35.000000</td>\n      <td>57012.300000</td>\n      <td>183.130000</td>\n      <td>0.000000</td>\n      <td>0.50000</td>\n    </tr>\n    <tr>\n      <th>75%</th>\n      <td>78.547500</td>\n      <td>42.000000</td>\n      <td>65470.635000</td>\n      <td>218.792500</td>\n      <td>1.000000</td>\n      <td>1.00000</td>\n    </tr>\n    <tr>\n      <th>max</th>\n      <td>91.430000</td>\n      <td>61.000000</td>\n      <td>79484.800000</td>\n      <td>269.960000</td>\n      <td>1.000000</td>\n      <td>1.00000</td>\n    </tr>\n  </tbody>\n</table>\n</div>"
     },
     "execution_count": 99,
     "metadata": {},
     "output_type": "execute_result"
    }
   ],
   "source": [
    "advertising.describe()"
   ],
   "metadata": {
    "collapsed": false,
    "pycharm": {
     "name": "#%%\n"
    }
   }
  },
  {
   "cell_type": "code",
   "execution_count": 100,
   "outputs": [
    {
     "data": {
      "text/plain": "<seaborn.axisgrid.FacetGrid at 0x7ff069d284c0>"
     },
     "execution_count": 100,
     "metadata": {},
     "output_type": "execute_result"
    },
    {
     "data": {
      "text/plain": "<Figure size 360x360 with 1 Axes>",
      "image/png": "[encoded data removed]"
     },
     "metadata": {
      "needs_background": "light"
     },
     "output_type": "display_data"
    }
   ],
   "source": [
    "sns.displot(advertising['Age'].dropna(),kde=False, bins=30)"
   ],
   "metadata": {
    "collapsed": false,
    "pycharm": {
     "name": "#%%\n"
    }
   }
  },
  {
   "cell_type": "code",
   "execution_count": 101,
   "outputs": [
    {
     "data": {
      "text/plain": "<seaborn.axisgrid.JointGrid at 0x7ff069b3fa00>"
     },
     "execution_count": 101,
     "metadata": {},
     "output_type": "execute_result"
    },
    {
     "data": {
      "text/plain": "<Figure size 432x432 with 3 Axes>",
      "image/png": "[encoded data removed]"
     },
     "metadata": {
      "needs_background": "light"
     },
     "output_type": "display_data"
    }
   ],
   "source": [
    "#доход по территориям взависимости от возраста\n",
    "sns.jointplot(y='Area Income', x = 'Age',data = advertising)"
   ],
   "metadata": {
    "collapsed": false,
    "pycharm": {
     "name": "#%%\n"
    }
   }
  },
  {
   "cell_type": "code",
   "execution_count": null,
   "outputs": [
    {
     "data": {
      "text/plain": "<seaborn.axisgrid.JointGrid at 0x7ff069ab25e0>"
     },
     "execution_count": 102,
     "metadata": {},
     "output_type": "execute_result"
    }
   ],
   "source": [
    "sns.jointplot(y='Daily Time Spent on Site', x = 'Age',data = advertising,kind = 'kde',color='orange')"
   ],
   "metadata": {
    "collapsed": false,
    "pycharm": {
     "name": "#%%\n",
     "is_executing": true
    }
   }
  },
  {
   "cell_type": "code",
   "execution_count": null,
   "outputs": [],
   "source": [
    "sns.jointplot(x='Daily Time Spent on Site', y = 'Daily Internet Usage',data = advertising,color='red')"
   ],
   "metadata": {
    "collapsed": false,
    "pycharm": {
     "name": "#%%\n",
     "is_executing": true
    }
   }
  },
  {
   "cell_type": "code",
   "execution_count": null,
   "outputs": [],
   "source": [
    "sns.pairplot(data = advertising,hue = 'Clicked on Ad')"
   ],
   "metadata": {
    "collapsed": false,
    "pycharm": {
     "name": "#%%\n",
     "is_executing": true
    }
   }
  },
  {
   "cell_type": "code",
   "execution_count": null,
   "outputs": [],
   "source": [
    "from sklearn.model_selection import train_test_split"
   ],
   "metadata": {
    "collapsed": false,
    "pycharm": {
     "name": "#%%\n",
     "is_executing": true
    }
   }
  },
  {
   "cell_type": "code",
   "execution_count": null,
   "outputs": [],
   "source": [
    "#использование только числовых значений\n",
    "X = advertising[['Daily Time Spent on Site','Age','Area Income','Daily Internet Usage','Male']]\n",
    "y = advertising['Clicked on Ad']"
   ],
   "metadata": {
    "collapsed": false,
    "pycharm": {
     "name": "#%%\n",
     "is_executing": true
    }
   }
  },
  {
   "cell_type": "code",
   "execution_count": null,
   "outputs": [],
   "source": [
    "X_train, X_test, y_train, y_test = train_test_split(X,y,test_size=0.33,random_state=42)"
   ],
   "metadata": {
    "collapsed": false,
    "pycharm": {
     "name": "#%%\n",
     "is_executing": true
    }
   }
  },
  {
   "cell_type": "code",
   "execution_count": null,
   "outputs": [],
   "source": [
    "from sklearn.linear_model import LogisticRegression"
   ],
   "metadata": {
    "collapsed": false,
    "pycharm": {
     "name": "#%%\n",
     "is_executing": true
    }
   }
  },
  {
   "cell_type": "code",
   "execution_count": null,
   "outputs": [],
   "source": [
    "logrm = LogisticRegression()"
   ],
   "metadata": {
    "collapsed": false,
    "pycharm": {
     "name": "#%%\n",
     "is_executing": true
    }
   }
  },
  {
   "cell_type": "code",
   "execution_count": null,
   "outputs": [],
   "source": [
    "logrm.fit(X_train,y_train)"
   ],
   "metadata": {
    "collapsed": false,
    "pycharm": {
     "name": "#%%\n",
     "is_executing": true
    }
   }
  },
  {
   "cell_type": "code",
   "execution_count": null,
   "outputs": [],
   "source": [
    "#gопробуем модель на тестовых данных\n",
    "predictions = logrm.predict(X_test)"
   ],
   "metadata": {
    "collapsed": false,
    "pycharm": {
     "name": "#%%\n",
     "is_executing": true
    }
   }
  },
  {
   "cell_type": "code",
   "execution_count": null,
   "outputs": [],
   "source": [
    "from sklearn.metrics import classification_report"
   ],
   "metadata": {
    "collapsed": false,
    "pycharm": {
     "name": "#%%\n",
     "is_executing": true
    }
   }
  },
  {
   "cell_type": "code",
   "execution_count": null,
   "outputs": [],
   "source": [
    "print(classification_report(y_test,predictions))"
   ],
   "metadata": {
    "collapsed": false,
    "pycharm": {
     "name": "#%%\n",
     "is_executing": true
    }
   }
  }
 ],
 "metadata": {
  "kernelspec": {
   "display_name": "Python 3",
   "language": "python",
   "name": "python3"
  },
  "language_info": {
   "codemirror_mode": {
    "name": "ipython",
    "version": 2
   },
   "file_extension": ".py",
   "mimetype": "text/x-python",
   "name": "python",
   "nbconvert_exporter": "python",
   "pygments_lexer": "ipython2",
   "version": "2.7.6"
  }
 },
 "nbformat": 4,
 "nbformat_minor": 0
}