{
 "cells": [
  {
   "cell_type": "code",
   "execution_count": 2,
   "metadata": {
    "collapsed": true
   },
   "outputs": [
    {
     "ename": "ModuleNotFoundError",
     "evalue": "No module named 'numpy'",
     "output_type": "error",
     "traceback": [
      "\u001B[0;31m---------------------------------------------------------------------------\u001B[0m",
      "\u001B[0;31mModuleNotFoundError\u001B[0m                       Traceback (most recent call last)",
      "\u001B[0;32m/tmp/ipykernel_5862/3700573520.py\u001B[0m in \u001B[0;36m<module>\u001B[0;34m\u001B[0m\n\u001B[1;32m      1\u001B[0m \u001B[0;32mimport\u001B[0m \u001B[0mpandas\u001B[0m \u001B[0;32mas\u001B[0m \u001B[0mpd\u001B[0m\u001B[0;34m\u001B[0m\u001B[0;34m\u001B[0m\u001B[0m\n\u001B[0;32m----> 2\u001B[0;31m \u001B[0;32mimport\u001B[0m \u001B[0mnumpy\u001B[0m \u001B[0;32mas\u001B[0m \u001B[0mnp\u001B[0m\u001B[0;34m\u001B[0m\u001B[0;34m\u001B[0m\u001B[0m\n\u001B[0m\u001B[1;32m      3\u001B[0m \u001B[0;34m\u001B[0m\u001B[0m\n\u001B[1;32m      4\u001B[0m \u001B[0mmy_df\u001B[0m \u001B[0;34m=\u001B[0m \u001B[0mpd\u001B[0m\u001B[0;34m.\u001B[0m\u001B[0mDataFrame\u001B[0m\u001B[0;34m(\u001B[0m\u001B[0mnp\u001B[0m\u001B[0;34m.\u001B[0m\u001B[0mrandom\u001B[0m\u001B[0;34m.\u001B[0m\u001B[0mrandn\u001B[0m\u001B[0;34m(\u001B[0m\u001B[0;36m4\u001B[0m\u001B[0;34m,\u001B[0m\u001B[0;36m5\u001B[0m\u001B[0;34m)\u001B[0m\u001B[0;34m,\u001B[0m\u001B[0;34m[\u001B[0m\u001B[0;36m1\u001B[0m\u001B[0;34m,\u001B[0m\u001B[0;36m2\u001B[0m\u001B[0;34m,\u001B[0m\u001B[0;36m3\u001B[0m\u001B[0;34m,\u001B[0m\u001B[0;36m4\u001B[0m\u001B[0;34m]\u001B[0m\u001B[0;34m,\u001B[0m\u001B[0;34m[\u001B[0m\u001B[0;34m'a'\u001B[0m\u001B[0;34m,\u001B[0m\u001B[0;34m'b'\u001B[0m\u001B[0;34m,\u001B[0m\u001B[0;34m'c'\u001B[0m\u001B[0;34m,\u001B[0m\u001B[0;34m'e'\u001B[0m\u001B[0;34m,\u001B[0m\u001B[0;34m'f'\u001B[0m\u001B[0;34m]\u001B[0m\u001B[0;34m)\u001B[0m\u001B[0;34m\u001B[0m\u001B[0;34m\u001B[0m\u001B[0m\n\u001B[1;32m      5\u001B[0m \u001B[0mprint\u001B[0m\u001B[0;34m(\u001B[0m\u001B[0mmy_df\u001B[0m\u001B[0;34m)\u001B[0m\u001B[0;34m\u001B[0m\u001B[0;34m\u001B[0m\u001B[0m\n",
      "\u001B[0;31mModuleNotFoundError\u001B[0m: No module named 'numpy'"
     ]
    }
   ],
   "source": [
    "import pandas as pd\n",
    "import numpy as np\n",
    "\n",
    "my_df = pd.DataFrame(np.random.randn(4,5),[1,2,3,4],['a','b','c','e','f'])\n",
    "print(my_df)"
   ]
  },
  {
   "cell_type": "code",
   "execution_count": 1,
   "outputs": [
    {
     "ename": "NameError",
     "evalue": "name 'my_df' is not defined",
     "output_type": "error",
     "traceback": [
      "\u001B[0;31m---------------------------------------------------------------------------\u001B[0m",
      "\u001B[0;31mNameError\u001B[0m                                 Traceback (most recent call last)",
      "\u001B[0;32m/tmp/ipykernel_5862/999668889.py\u001B[0m in \u001B[0;36m<module>\u001B[0;34m\u001B[0m\n\u001B[0;32m----> 1\u001B[0;31m \u001B[0mprint\u001B[0m\u001B[0;34m(\u001B[0m\u001B[0mmy_df\u001B[0m\u001B[0;34m[\u001B[0m\u001B[0;34m'a'\u001B[0m\u001B[0;34m]\u001B[0m\u001B[0;34m)\u001B[0m\u001B[0;34m\u001B[0m\u001B[0;34m\u001B[0m\u001B[0m\n\u001B[0m",
      "\u001B[0;31mNameError\u001B[0m: name 'my_df' is not defined"
     ]
    }
   ],
   "source": [
    "print(my_df['a'])"
   ],
   "metadata": {
    "collapsed": false,
    "pycharm": {
     "name": "#%%\n"
    }
   }
  },
  {
   "cell_type": "code",
   "execution_count": 5,
   "outputs": [
    {
     "name": "stdout",
     "output_type": "stream",
     "text": [
      "          a         b\n",
      "1  0.612408  1.096702\n",
      "2 -1.145965 -1.897666\n",
      "3  0.420116  1.815884\n",
      "4  0.492688  0.601461\n"
     ]
    }
   ],
   "source": [
    "print(my_df[['a','b']])"
   ],
   "metadata": {
    "collapsed": false,
    "pycharm": {
     "name": "#%%\n"
    }
   }
  },
  {
   "cell_type": "code",
   "execution_count": 6,
   "outputs": [
    {
     "name": "stdout",
     "output_type": "stream",
     "text": [
      "          a         b         c         e         f         h\n",
      "1  0.612408  1.096702  0.482879 -1.365643 -0.263343  1.709110\n",
      "2 -1.145965 -1.897666 -0.580479  1.826361 -1.810591 -3.043632\n",
      "3  0.420116  1.815884 -0.417393  0.121828  0.515208  2.236000\n",
      "4  0.492688  0.601461  0.594611 -0.408480 -0.248414  1.094149\n"
     ]
    }
   ],
   "source": [
    "my_df['h']=my_df['a']+my_df['b']\n",
    "\n",
    "print(my_df)"
   ],
   "metadata": {
    "collapsed": false,
    "pycharm": {
     "name": "#%%новый столбец-сумма 2-х\n"
    }
   }
  },
  {
   "cell_type": "code",
   "execution_count": 7,
   "outputs": [
    {
     "data": {
      "text/plain": "a   -1.145965\nb   -1.897666\nc   -0.580479\ne    1.826361\nf   -1.810591\nh   -3.043632\nName: 2, dtype: float64"
     },
     "execution_count": 7,
     "metadata": {},
     "output_type": "execute_result"
    }
   ],
   "source": [
    "my_df.loc[2]"
   ],
   "metadata": {
    "collapsed": false,
    "pycharm": {
     "name": "#%%выбираем значение в строке\n"
    }
   }
  },
  {
   "cell_type": "code",
   "execution_count": 8,
   "outputs": [
    {
     "name": "stdout",
     "output_type": "stream",
     "text": [
      "1.8158840947039043\n"
     ]
    }
   ],
   "source": [
    "print(my_df.loc[3,'b'])"
   ],
   "metadata": {
    "collapsed": false,
    "pycharm": {
     "name": "#%%\n"
    }
   }
  },
  {
   "cell_type": "code",
   "execution_count": 9,
   "outputs": [
    {
     "data": {
      "text/plain": "          a         b         c         e         f         h\n1  0.612408  1.096702  0.482879 -1.365643 -0.263343  1.709110\n2 -1.145965 -1.897666 -0.580479  1.826361 -1.810591 -3.043632\n4  0.492688  0.601461  0.594611 -0.408480 -0.248414  1.094149",
      "text/html": "<div>\n<style scoped>\n    .dataframe tbody tr th:only-of-type {\n        vertical-align: middle;\n    }\n\n    .dataframe tbody tr th {\n        vertical-align: top;\n    }\n\n    .dataframe thead th {\n        text-align: right;\n    }\n</style>\n<table border=\"1\" class=\"dataframe\">\n  <thead>\n    <tr style=\"text-align: right;\">\n      <th></th>\n      <th>a</th>\n      <th>b</th>\n      <th>c</th>\n      <th>e</th>\n      <th>f</th>\n      <th>h</th>\n    </tr>\n  </thead>\n  <tbody>\n    <tr>\n      <th>1</th>\n      <td>0.612408</td>\n      <td>1.096702</td>\n      <td>0.482879</td>\n      <td>-1.365643</td>\n      <td>-0.263343</td>\n      <td>1.709110</td>\n    </tr>\n    <tr>\n      <th>2</th>\n      <td>-1.145965</td>\n      <td>-1.897666</td>\n      <td>-0.580479</td>\n      <td>1.826361</td>\n      <td>-1.810591</td>\n      <td>-3.043632</td>\n    </tr>\n    <tr>\n      <th>4</th>\n      <td>0.492688</td>\n      <td>0.601461</td>\n      <td>0.594611</td>\n      <td>-0.408480</td>\n      <td>-0.248414</td>\n      <td>1.094149</td>\n    </tr>\n  </tbody>\n</table>\n</div>"
     },
     "execution_count": 9,
     "metadata": {},
     "output_type": "execute_result"
    }
   ],
   "source": [
    "my_df.drop(3)\n"
   ],
   "metadata": {
    "collapsed": false,
    "pycharm": {
     "name": "#%%на\n"
    }
   }
  },
  {
   "cell_type": "code",
   "execution_count": 10,
   "outputs": [
    {
     "data": {
      "text/plain": "          a         c         e         f         h\n1  0.612408  0.482879 -1.365643 -0.263343  1.709110\n2 -1.145965 -0.580479  1.826361 -1.810591 -3.043632\n3  0.420116 -0.417393  0.121828  0.515208  2.236000\n4  0.492688  0.594611 -0.408480 -0.248414  1.094149",
      "text/html": "<div>\n<style scoped>\n    .dataframe tbody tr th:only-of-type {\n        vertical-align: middle;\n    }\n\n    .dataframe tbody tr th {\n        vertical-align: top;\n    }\n\n    .dataframe thead th {\n        text-align: right;\n    }\n</style>\n<table border=\"1\" class=\"dataframe\">\n  <thead>\n    <tr style=\"text-align: right;\">\n      <th></th>\n      <th>a</th>\n      <th>c</th>\n      <th>e</th>\n      <th>f</th>\n      <th>h</th>\n    </tr>\n  </thead>\n  <tbody>\n    <tr>\n      <th>1</th>\n      <td>0.612408</td>\n      <td>0.482879</td>\n      <td>-1.365643</td>\n      <td>-0.263343</td>\n      <td>1.709110</td>\n    </tr>\n    <tr>\n      <th>2</th>\n      <td>-1.145965</td>\n      <td>-0.580479</td>\n      <td>1.826361</td>\n      <td>-1.810591</td>\n      <td>-3.043632</td>\n    </tr>\n    <tr>\n      <th>3</th>\n      <td>0.420116</td>\n      <td>-0.417393</td>\n      <td>0.121828</td>\n      <td>0.515208</td>\n      <td>2.236000</td>\n    </tr>\n    <tr>\n      <th>4</th>\n      <td>0.492688</td>\n      <td>0.594611</td>\n      <td>-0.408480</td>\n      <td>-0.248414</td>\n      <td>1.094149</td>\n    </tr>\n  </tbody>\n</table>\n</div>"
     },
     "execution_count": 10,
     "metadata": {},
     "output_type": "execute_result"
    }
   ],
   "source": [
    "my_df.drop('b',axis=1)\n"
   ],
   "metadata": {
    "collapsed": false,
    "pycharm": {
     "name": "#%%\n"
    }
   }
  },
  {
   "cell_type": "code",
   "execution_count": 11,
   "outputs": [
    {
     "data": {
      "text/plain": "(4, 6)"
     },
     "execution_count": 11,
     "metadata": {},
     "output_type": "execute_result"
    }
   ],
   "source": [
    "my_df.shape\n",
    "\n"
   ],
   "metadata": {
    "collapsed": false,
    "pycharm": {
     "name": "#%%тапл для 2-мерной матрицы\n"
    }
   }
  },
  {
   "cell_type": "code",
   "execution_count": 14,
   "outputs": [
    {
     "name": "stdout",
     "output_type": "stream",
     "text": [
      "   France  Spain  Italy  Germany  Great Britain\n",
      "a      20     54     67       27             28\n",
      "b      70     82     98       81              4\n",
      "c      27      7     49       11             70\n",
      "d      11     86     38       38             31\n",
      "e      22     49      5       63             61\n",
      "f      89     63     36       94             86\n",
      "g      36     76     95       79             84\n"
     ]
    }
   ],
   "source": [
    "letters = ['a', 'b', 'c', 'd', 'e', 'f', 'g']\n",
    "ages = np.random.randint(1, 101, 35).reshape(7, 5)\n",
    "countries = ['France', 'Spain', 'Italy', 'Germany', 'Great Britain']\n",
    "\n",
    "df = pd.DataFrame(ages, letters,\n",
    "                     countries)\n",
    "\n",
    "print(df)"
   ],
   "metadata": {
    "collapsed": false,
    "pycharm": {
     "name": "#%%\n"
    }
   }
  },
  {
   "cell_type": "code",
   "execution_count": 15,
   "outputs": [
    {
     "name": "stdout",
     "output_type": "stream",
     "text": [
      "          X         Y         Z\n",
      "a  0.305257 -0.677446  1.278619\n",
      "b -0.071529 -0.327880  0.216916\n",
      "c -0.140634 -0.606804  1.139389\n",
      "d -2.204137 -0.587434 -1.567410\n"
     ]
    }
   ],
   "source": [
    "from numpy.random import randn\n",
    "df = pd.DataFrame(randn(4,3), ['a','b','c','d'],['X','Y','Z'])\n",
    "\n",
    "print(df)"
   ],
   "metadata": {
    "collapsed": false,
    "pycharm": {
     "name": "#%%\n"
    }
   }
  },
  {
   "cell_type": "code",
   "execution_count": 18,
   "outputs": [
    {
     "name": "stdout",
     "output_type": "stream",
     "text": [
      "[a     True\n",
      "b    False\n",
      "c    False\n",
      "d     True\n",
      "dtype: bool]\n"
     ]
    }
   ],
   "source": [
    "print([(df['X']>0) | (df['Z']<0)])"
   ],
   "metadata": {
    "collapsed": false,
    "pycharm": {
     "name": "#%%\n"
    }
   }
  },
  {
   "cell_type": "code",
   "execution_count": 3,
   "outputs": [
    {
     "name": "stdout",
     "output_type": "stream",
     "text": [
      "    one   two  three\n",
      "0  10.0   NaN     10\n",
      "1   NaN   NaN     10\n",
      "2  30.0  50.0     10\n"
     ]
    }
   ],
   "source": [
    "dict={'one':[10,np.nan,30],'two':[np.nan,np.nan,50],\n",
    "      'three':[10,10,10]}\n",
    "df = pd.DataFrame(dict)\n",
    "print(df)"
   ],
   "metadata": {
    "collapsed": false,
    "pycharm": {
     "name": "#%%работа с пандас когда есть недост данных\n"
    }
   }
  },
  {
   "cell_type": "code",
   "execution_count": 7,
   "outputs": [
    {
     "name": "stdout",
     "output_type": "stream",
     "text": [
      "    one   two  three\n",
      "2  30.0  50.0     10\n",
      "   three\n",
      "0     10\n",
      "1     10\n",
      "2     10\n",
      "    one   two  three\n",
      "0  10.0   NaN     10\n",
      "2  30.0  50.0     10\n",
      "         one        two  three\n",
      "0       10.0  something     10\n",
      "1  something  something     10\n",
      "2       30.0       50.0     10\n"
     ]
    }
   ],
   "source": [
    "print(df.dropna())\n",
    "#если добавить axis=1,nj удаляет столбцы\n",
    "\n",
    "print(df.dropna(axis=1))\n",
    "print(df.dropna(thresh=2))\n",
    "#удаляет строки,где есть 2 NaN значения\n",
    "print(df.fillna(value='something'))\n",
    "#заполняет другими значениями"
   ],
   "metadata": {
    "collapsed": false,
    "pycharm": {
     "name": "#%%пандас удаляет все строки с NAN значениями\n"
    }
   }
  },
  {
   "cell_type": "code",
   "execution_count": 9,
   "outputs": [],
   "source": [
    "dict = {'Company':['COMP1', 'COMP1', 'COMP2', 'COMP2', 'COMP3', 'COMP3'],\n",
    "        'Months':['JAN', 'FEB', 'MAR', 'APR', 'MAY', 'JUN'],\n",
    "        'Salary': [2000, 1500, 3000, 5000, 2500, 3500]}\n"
   ],
   "metadata": {
    "collapsed": false,
    "pycharm": {
     "name": "#%%\n"
    }
   }
  },
  {
   "cell_type": "code",
   "execution_count": 17,
   "outputs": [
    {
     "name": "stdout",
     "output_type": "stream",
     "text": [
      "  Company Months  Salary\n",
      "0   COMP1    JAN    2000\n",
      "1   COMP1    FEB    1500\n",
      "2   COMP2    MAR    3000\n",
      "3   COMP2    APR    5000\n",
      "4   COMP3    MAY    2500\n",
      "5   COMP3    JUN    3500\n",
      "         Salary\n",
      "Company        \n",
      "COMP1    1750.0\n",
      "COMP2    4000.0\n",
      "COMP3    3000.0\n",
      "        Months  Salary\n",
      "Company               \n",
      "COMP1      JAN    2000\n",
      "COMP2      MAR    5000\n",
      "COMP3      MAY    3500\n",
      "        Months  Salary\n",
      "Company               \n",
      "COMP1      FEB    1500\n",
      "COMP2      APR    3000\n",
      "COMP3      JUN    2500\n",
      "        Salary                                                             \n",
      "         count    mean          std     min     25%     50%     75%     max\n",
      "Company                                                                    \n",
      "COMP1      2.0  1750.0   353.553391  1500.0  1625.0  1750.0  1875.0  2000.0\n",
      "COMP2      2.0  4000.0  1414.213562  3000.0  3500.0  4000.0  4500.0  5000.0\n",
      "COMP3      2.0  3000.0   707.106781  2500.0  2750.0  3000.0  3250.0  3500.0\n",
      "Company             COMP1        COMP2        COMP3\n",
      "Salary count     2.000000     2.000000     2.000000\n",
      "       mean   1750.000000  4000.000000  3000.000000\n",
      "       std     353.553391  1414.213562   707.106781\n",
      "       min    1500.000000  3000.000000  2500.000000\n",
      "       25%    1625.000000  3500.000000  2750.000000\n",
      "       50%    1750.000000  4000.000000  3000.000000\n",
      "       75%    1875.000000  4500.000000  3250.000000\n",
      "       max    2000.000000  5000.000000  3500.000000\n",
      "Salary  count       2.000000\n",
      "        mean     4000.000000\n",
      "        std      1414.213562\n",
      "        min      3000.000000\n",
      "        25%      3500.000000\n",
      "        50%      4000.000000\n",
      "        75%      4500.000000\n",
      "        max      5000.000000\n",
      "Name: COMP2, dtype: float64\n"
     ]
    }
   ],
   "source": [
    "df=pd.DataFrame(dict)\n",
    "print(df)\n",
    "#группирует и находит среднее значение\n",
    "print(df.groupby('Company').mean())\n",
    "\n",
    "print(df.groupby('Company').max())\n",
    "print(df.groupby('Company').min())\n",
    "#описать метод describe\n",
    "print(df.groupby('Company').describe())\n",
    "#Выводим компании столбцами\n",
    "print(df.groupby('Company').describe().transpose())\n",
    "#информация для какойто компании\n",
    "print(df.groupby('Company').describe().transpose()['COMP2'])"
   ],
   "metadata": {
    "collapsed": false,
    "pycharm": {
     "name": "#%%Группировка\n"
    }
   }
  }
 ],
 "metadata": {
  "kernelspec": {
   "display_name": "Python 3",
   "language": "python",
   "name": "python3"
  },
  "language_info": {
   "codemirror_mode": {
    "name": "ipython",
    "version": 2
   },
   "file_extension": ".py",
   "mimetype": "text/x-python",
   "name": "python",
   "nbconvert_exporter": "python",
   "pygments_lexer": "ipython2",
   "version": "2.7.6"
  }
 },
 "nbformat": 4,
 "nbformat_minor": 0
}