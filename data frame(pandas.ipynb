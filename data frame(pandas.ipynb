{
 "cells": [
  {
   "cell_type": "code",
   "execution_count": 2,
   "metadata": {
    "collapsed": true
   },
   "outputs": [
    {
     "name": "stdout",
     "output_type": "stream",
     "text": [
      "          a         b         c         e         f\n",
      "1  0.612408  1.096702  0.482879 -1.365643 -0.263343\n",
      "2 -1.145965 -1.897666 -0.580479  1.826361 -1.810591\n",
      "3  0.420116  1.815884 -0.417393  0.121828  0.515208\n",
      "4  0.492688  0.601461  0.594611 -0.408480 -0.248414\n"
     ]
    }
   ],
   "source": [
    "import pandas as pd\n",
    "import numpy as np\n",
    "\n",
    "my_df = pd.DataFrame(np.random.randn(4,5),[1,2,3,4],['a','b','c','e','f'])\n",
    "print(my_df)"
   ]
  },
  {
   "cell_type": "code",
   "execution_count": 3,
   "outputs": [
    {
     "name": "stdout",
     "output_type": "stream",
     "text": [
      "1    0.612408\n",
      "2   -1.145965\n",
      "3    0.420116\n",
      "4    0.492688\n",
      "Name: a, dtype: float64\n"
     ]
    }
   ],
   "source": [
    "print(my_df['a'])"
   ],
   "metadata": {
    "collapsed": false,
    "pycharm": {
     "name": "#%%\n"
    }
   }
  },
  {
   "cell_type": "code",
   "execution_count": 5,
   "outputs": [
    {
     "name": "stdout",
     "output_type": "stream",
     "text": [
      "          a         b\n",
      "1  0.612408  1.096702\n",
      "2 -1.145965 -1.897666\n",
      "3  0.420116  1.815884\n",
      "4  0.492688  0.601461\n"
     ]
    }
   ],
   "source": [
    "print(my_df[['a','b']])"
   ],
   "metadata": {
    "collapsed": false,
    "pycharm": {
     "name": "#%%\n"
    }
   }
  },
  {
   "cell_type": "code",
   "execution_count": 6,
   "outputs": [
    {
     "name": "stdout",
     "output_type": "stream",
     "text": [
      "          a         b         c         e         f         h\n",
      "1  0.612408  1.096702  0.482879 -1.365643 -0.263343  1.709110\n",
      "2 -1.145965 -1.897666 -0.580479  1.826361 -1.810591 -3.043632\n",
      "3  0.420116  1.815884 -0.417393  0.121828  0.515208  2.236000\n",
      "4  0.492688  0.601461  0.594611 -0.408480 -0.248414  1.094149\n"
     ]
    }
   ],
   "source": [
    "my_df['h']=my_df['a']+my_df['b']\n",
    "\n",
    "print(my_df)"
   ],
   "metadata": {
    "collapsed": false,
    "pycharm": {
     "name": "#%%новый столбец-сумма 2-х\n"
    }
   }
  },
  {
   "cell_type": "code",
   "execution_count": 7,
   "outputs": [
    {
     "data": {
      "text/plain": "a   -1.145965\nb   -1.897666\nc   -0.580479\ne    1.826361\nf   -1.810591\nh   -3.043632\nName: 2, dtype: float64"
     },
     "execution_count": 7,
     "metadata": {},
     "output_type": "execute_result"
    }
   ],
   "source": [
    "my_df.loc[2]"
   ],
   "metadata": {
    "collapsed": false,
    "pycharm": {
     "name": "#%%выбираем значение в строке\n"
    }
   }
  },
  {
   "cell_type": "code",
   "execution_count": 8,
   "outputs": [
    {
     "name": "stdout",
     "output_type": "stream",
     "text": [
      "1.8158840947039043\n"
     ]
    }
   ],
   "source": [
    "print(my_df.loc[3,'b'])"
   ],
   "metadata": {
    "collapsed": false,
    "pycharm": {
     "name": "#%%\n"
    }
   }
  },
  {
   "cell_type": "code",
   "execution_count": 9,
   "outputs": [
    {
     "data": {
      "text/plain": "          a         b         c         e         f         h\n1  0.612408  1.096702  0.482879 -1.365643 -0.263343  1.709110\n2 -1.145965 -1.897666 -0.580479  1.826361 -1.810591 -3.043632\n4  0.492688  0.601461  0.594611 -0.408480 -0.248414  1.094149",
      "text/html": "<div>\n<style scoped>\n    .dataframe tbody tr th:only-of-type {\n        vertical-align: middle;\n    }\n\n    .dataframe tbody tr th {\n        vertical-align: top;\n    }\n\n    .dataframe thead th {\n        text-align: right;\n    }\n</style>\n<table border=\"1\" class=\"dataframe\">\n  <thead>\n    <tr style=\"text-align: right;\">\n      <th></th>\n      <th>a</th>\n      <th>b</th>\n      <th>c</th>\n      <th>e</th>\n      <th>f</th>\n      <th>h</th>\n    </tr>\n  </thead>\n  <tbody>\n    <tr>\n      <th>1</th>\n      <td>0.612408</td>\n      <td>1.096702</td>\n      <td>0.482879</td>\n      <td>-1.365643</td>\n      <td>-0.263343</td>\n      <td>1.709110</td>\n    </tr>\n    <tr>\n      <th>2</th>\n      <td>-1.145965</td>\n      <td>-1.897666</td>\n      <td>-0.580479</td>\n      <td>1.826361</td>\n      <td>-1.810591</td>\n      <td>-3.043632</td>\n    </tr>\n    <tr>\n      <th>4</th>\n      <td>0.492688</td>\n      <td>0.601461</td>\n      <td>0.594611</td>\n      <td>-0.408480</td>\n      <td>-0.248414</td>\n      <td>1.094149</td>\n    </tr>\n  </tbody>\n</table>\n</div>"
     },
     "execution_count": 9,
     "metadata": {},
     "output_type": "execute_result"
    }
   ],
   "source": [
    "my_df.drop(3)\n"
   ],
   "metadata": {
    "collapsed": false,
    "pycharm": {
     "name": "#%%на\n"
    }
   }
  },
  {
   "cell_type": "code",
   "execution_count": 10,
   "outputs": [
    {
     "data": {
      "text/plain": "          a         c         e         f         h\n1  0.612408  0.482879 -1.365643 -0.263343  1.709110\n2 -1.145965 -0.580479  1.826361 -1.810591 -3.043632\n3  0.420116 -0.417393  0.121828  0.515208  2.236000\n4  0.492688  0.594611 -0.408480 -0.248414  1.094149",
      "text/html": "<div>\n<style scoped>\n    .dataframe tbody tr th:only-of-type {\n        vertical-align: middle;\n    }\n\n    .dataframe tbody tr th {\n        vertical-align: top;\n    }\n\n    .dataframe thead th {\n        text-align: right;\n    }\n</style>\n<table border=\"1\" class=\"dataframe\">\n  <thead>\n    <tr style=\"text-align: right;\">\n      <th></th>\n      <th>a</th>\n      <th>c</th>\n      <th>e</th>\n      <th>f</th>\n      <th>h</th>\n    </tr>\n  </thead>\n  <tbody>\n    <tr>\n      <th>1</th>\n      <td>0.612408</td>\n      <td>0.482879</td>\n      <td>-1.365643</td>\n      <td>-0.263343</td>\n      <td>1.709110</td>\n    </tr>\n    <tr>\n      <th>2</th>\n      <td>-1.145965</td>\n      <td>-0.580479</td>\n      <td>1.826361</td>\n      <td>-1.810591</td>\n      <td>-3.043632</td>\n    </tr>\n    <tr>\n      <th>3</th>\n      <td>0.420116</td>\n      <td>-0.417393</td>\n      <td>0.121828</td>\n      <td>0.515208</td>\n      <td>2.236000</td>\n    </tr>\n    <tr>\n      <th>4</th>\n      <td>0.492688</td>\n      <td>0.594611</td>\n      <td>-0.408480</td>\n      <td>-0.248414</td>\n      <td>1.094149</td>\n    </tr>\n  </tbody>\n</table>\n</div>"
     },
     "execution_count": 10,
     "metadata": {},
     "output_type": "execute_result"
    }
   ],
   "source": [
    "my_df.drop('b',axis=1)\n"
   ],
   "metadata": {
    "collapsed": false,
    "pycharm": {
     "name": "#%%\n"
    }
   }
  },
  {
   "cell_type": "code",
   "execution_count": 11,
   "outputs": [
    {
     "data": {
      "text/plain": "(4, 6)"
     },
     "execution_count": 11,
     "metadata": {},
     "output_type": "execute_result"
    }
   ],
   "source": [
    "my_df.shape\n",
    "\n"
   ],
   "metadata": {
    "collapsed": false,
    "pycharm": {
     "name": "#%%тапл для 2-мерной матрицы\n"
    }
   }
  },
  {
   "cell_type": "code",
   "execution_count": 14,
   "outputs": [
    {
     "name": "stdout",
     "output_type": "stream",
     "text": [
      "   France  Spain  Italy  Germany  Great Britain\n",
      "a      20     54     67       27             28\n",
      "b      70     82     98       81              4\n",
      "c      27      7     49       11             70\n",
      "d      11     86     38       38             31\n",
      "e      22     49      5       63             61\n",
      "f      89     63     36       94             86\n",
      "g      36     76     95       79             84\n"
     ]
    }
   ],
   "source": [
    "letters = ['a', 'b', 'c', 'd', 'e', 'f', 'g']\n",
    "ages = np.random.randint(1, 101, 35).reshape(7, 5)\n",
    "countries = ['France', 'Spain', 'Italy', 'Germany', 'Great Britain']\n",
    "\n",
    "df = pd.DataFrame(ages, letters,\n",
    "                     countries)\n",
    "\n",
    "print(df)"
   ],
   "metadata": {
    "collapsed": false,
    "pycharm": {
     "name": "#%%\n"
    }
   }
  }
 ],
 "metadata": {
  "kernelspec": {
   "display_name": "Python 3",
   "language": "python",
   "name": "python3"
  },
  "language_info": {
   "codemirror_mode": {
    "name": "ipython",
    "version": 2
   },
   "file_extension": ".py",
   "mimetype": "text/x-python",
   "name": "python",
   "nbconvert_exporter": "python",
   "pygments_lexer": "ipython2",
   "version": "2.7.6"
  }
 },
 "nbformat": 4,
 "nbformat_minor": 0
}