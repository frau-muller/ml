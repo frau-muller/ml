{
 "cells": [
  {
   "cell_type": "code",
   "execution_count": 1,
   "metadata": {
    "collapsed": true
   },
   "outputs": [],
   "source": [
    "import pandas as pd\n"
   ]
  },
  {
   "cell_type": "code",
   "execution_count": 25,
   "outputs": [
    {
     "data": {
      "text/plain": "    first_name  last_name                   company_name  \\\n0        James       Butt              Benton, John B Jr   \n1    Josephine    Darakjy          Chanay, Jeffrey A Esq   \n2          Art     Venere            Chemel, James L Cpa   \n3        Lenna   Paprocki         Feltz Printing Service   \n4      Donette     Foller            Printing Dimensions   \n..         ...        ...                            ...   \n495    Brittni  Gillaspie                    Inner Label   \n496    Raylene      Kampa                     Hermar Inc   \n497        Flo   Bookamer   Simonton Howe & Schneider Pc   \n498       Jani      Biddy  Warehouse Office & Paper Prod   \n499   Chauncey     Motley     Affiliated With Travelodge   \n\n                  address         city      county state    zip        phone1  \\\n0      6649 N Blue Gum St  New Orleans     Orleans    LA  70116  504-621-8927   \n1     4 B Blue Ridge Blvd     Brighton  Livingston    MI  48116  810-292-9388   \n2    8 W Cerritos Ave #54   Bridgeport  Gloucester    NJ   8014  856-636-8749   \n3             639 Main St    Anchorage   Anchorage    AK  99501  907-385-4412   \n4            34 Center St     Hamilton      Butler    OH  45011  513-570-1893   \n..                    ...          ...         ...   ...    ...           ...   \n495            67 Rv Cent        Boise         Ada    ID  83709  208-709-1235   \n496        2 Sw Nyberg Rd      Elkhart     Elkhart    IN  46514  574-499-1454   \n497       89992 E 15th St     Alliance   Box Butte    NE  69301  308-726-2182   \n498      61556 W 20th Ave      Seattle        King    WA  98104  206-711-6498   \n499        63 E Aurora Dr      Orlando      Orange    FL  32804  407-413-4842   \n\n           phone2                          email  \\\n0    504-845-1427                jbutt@gmail.com   \n1    810-374-9840  josephine_darakjy@darakjy.org   \n2    856-264-4130                 art@venere.org   \n3    907-921-2010          lpaprocki@hotmail.com   \n4    513-549-4561         donette.foller@cox.net   \n..            ...                            ...   \n495  208-206-9848       bgillaspie@gillaspie.com   \n496  574-330-1884               rkampa@kampa.org   \n497  308-250-6987           flo.bookamer@cox.net   \n498  206-395-6284               jbiddy@yahoo.com   \n499  407-557-8857        chauncey_motley@aol.com   \n\n                                         web  \n0               http://www.bentonjohnbjr.com  \n1           http://www.chanayjeffreyaesq.com  \n2             http://www.chemeljameslcpa.com  \n3        http://www.feltzprintingservice.com  \n4          http://www.printingdimensions.com  \n..                                       ...  \n495                http://www.innerlabel.com  \n496                 http://www.hermarinc.com  \n497   http://www.simontonhoweschneiderpc.com  \n498  http://www.warehouseofficepaperprod.com  \n499  http://www.affiliatedwithtravelodge.com  \n\n[500 rows x 12 columns]",
      "text/html": "<div>\n<style scoped>\n    .dataframe tbody tr th:only-of-type {\n        vertical-align: middle;\n    }\n\n    .dataframe tbody tr th {\n        vertical-align: top;\n    }\n\n    .dataframe thead th {\n        text-align: right;\n    }\n</style>\n<table border=\"1\" class=\"dataframe\">\n  <thead>\n    <tr style=\"text-align: right;\">\n      <th></th>\n      <th>first_name</th>\n      <th>last_name</th>\n      <th>company_name</th>\n      <th>address</th>\n      <th>city</th>\n      <th>county</th>\n      <th>state</th>\n      <th>zip</th>\n      <th>phone1</th>\n      <th>phone2</th>\n      <th>email</th>\n      <th>web</th>\n    </tr>\n  </thead>\n  <tbody>\n    <tr>\n      <th>0</th>\n      <td>James</td>\n      <td>Butt</td>\n      <td>Benton, John B Jr</td>\n      <td>6649 N Blue Gum St</td>\n      <td>New Orleans</td>\n      <td>Orleans</td>\n      <td>LA</td>\n      <td>70116</td>\n      <td>504-621-8927</td>\n      <td>504-845-1427</td>\n      <td>jbutt@gmail.com</td>\n      <td>http://www.bentonjohnbjr.com</td>\n    </tr>\n    <tr>\n      <th>1</th>\n      <td>Josephine</td>\n      <td>Darakjy</td>\n      <td>Chanay, Jeffrey A Esq</td>\n      <td>4 B Blue Ridge Blvd</td>\n      <td>Brighton</td>\n      <td>Livingston</td>\n      <td>MI</td>\n      <td>48116</td>\n      <td>810-292-9388</td>\n      <td>810-374-9840</td>\n      <td>josephine_darakjy@darakjy.org</td>\n      <td>http://www.chanayjeffreyaesq.com</td>\n    </tr>\n    <tr>\n      <th>2</th>\n      <td>Art</td>\n      <td>Venere</td>\n      <td>Chemel, James L Cpa</td>\n      <td>8 W Cerritos Ave #54</td>\n      <td>Bridgeport</td>\n      <td>Gloucester</td>\n      <td>NJ</td>\n      <td>8014</td>\n      <td>856-636-8749</td>\n      <td>856-264-4130</td>\n      <td>art@venere.org</td>\n      <td>http://www.chemeljameslcpa.com</td>\n    </tr>\n    <tr>\n      <th>3</th>\n      <td>Lenna</td>\n      <td>Paprocki</td>\n      <td>Feltz Printing Service</td>\n      <td>639 Main St</td>\n      <td>Anchorage</td>\n      <td>Anchorage</td>\n      <td>AK</td>\n      <td>99501</td>\n      <td>907-385-4412</td>\n      <td>907-921-2010</td>\n      <td>lpaprocki@hotmail.com</td>\n      <td>http://www.feltzprintingservice.com</td>\n    </tr>\n    <tr>\n      <th>4</th>\n      <td>Donette</td>\n      <td>Foller</td>\n      <td>Printing Dimensions</td>\n      <td>34 Center St</td>\n      <td>Hamilton</td>\n      <td>Butler</td>\n      <td>OH</td>\n      <td>45011</td>\n      <td>513-570-1893</td>\n      <td>513-549-4561</td>\n      <td>donette.foller@cox.net</td>\n      <td>http://www.printingdimensions.com</td>\n    </tr>\n    <tr>\n      <th>...</th>\n      <td>...</td>\n      <td>...</td>\n      <td>...</td>\n      <td>...</td>\n      <td>...</td>\n      <td>...</td>\n      <td>...</td>\n      <td>...</td>\n      <td>...</td>\n      <td>...</td>\n      <td>...</td>\n      <td>...</td>\n    </tr>\n    <tr>\n      <th>495</th>\n      <td>Brittni</td>\n      <td>Gillaspie</td>\n      <td>Inner Label</td>\n      <td>67 Rv Cent</td>\n      <td>Boise</td>\n      <td>Ada</td>\n      <td>ID</td>\n      <td>83709</td>\n      <td>208-709-1235</td>\n      <td>208-206-9848</td>\n      <td>bgillaspie@gillaspie.com</td>\n      <td>http://www.innerlabel.com</td>\n    </tr>\n    <tr>\n      <th>496</th>\n      <td>Raylene</td>\n      <td>Kampa</td>\n      <td>Hermar Inc</td>\n      <td>2 Sw Nyberg Rd</td>\n      <td>Elkhart</td>\n      <td>Elkhart</td>\n      <td>IN</td>\n      <td>46514</td>\n      <td>574-499-1454</td>\n      <td>574-330-1884</td>\n      <td>rkampa@kampa.org</td>\n      <td>http://www.hermarinc.com</td>\n    </tr>\n    <tr>\n      <th>497</th>\n      <td>Flo</td>\n      <td>Bookamer</td>\n      <td>Simonton Howe &amp; Schneider Pc</td>\n      <td>89992 E 15th St</td>\n      <td>Alliance</td>\n      <td>Box Butte</td>\n      <td>NE</td>\n      <td>69301</td>\n      <td>308-726-2182</td>\n      <td>308-250-6987</td>\n      <td>flo.bookamer@cox.net</td>\n      <td>http://www.simontonhoweschneiderpc.com</td>\n    </tr>\n    <tr>\n      <th>498</th>\n      <td>Jani</td>\n      <td>Biddy</td>\n      <td>Warehouse Office &amp; Paper Prod</td>\n      <td>61556 W 20th Ave</td>\n      <td>Seattle</td>\n      <td>King</td>\n      <td>WA</td>\n      <td>98104</td>\n      <td>206-711-6498</td>\n      <td>206-395-6284</td>\n      <td>jbiddy@yahoo.com</td>\n      <td>http://www.warehouseofficepaperprod.com</td>\n    </tr>\n    <tr>\n      <th>499</th>\n      <td>Chauncey</td>\n      <td>Motley</td>\n      <td>Affiliated With Travelodge</td>\n      <td>63 E Aurora Dr</td>\n      <td>Orlando</td>\n      <td>Orange</td>\n      <td>FL</td>\n      <td>32804</td>\n      <td>407-413-4842</td>\n      <td>407-557-8857</td>\n      <td>chauncey_motley@aol.com</td>\n      <td>http://www.affiliatedwithtravelodge.com</td>\n    </tr>\n  </tbody>\n</table>\n<p>500 rows × 12 columns</p>\n</div>"
     },
     "execution_count": 25,
     "metadata": {},
     "output_type": "execute_result"
    }
   ],
   "source": [
    "pd.read_csv('us-500.csv')"
   ],
   "metadata": {
    "collapsed": false,
    "pycharm": {
     "name": "#%%\n"
    }
   }
  },
  {
   "cell_type": "code",
   "execution_count": 30,
   "outputs": [
    {
     "name": "stdout",
     "output_type": "stream",
     "text": [
      "  first_name last_name               company_name                address  \\\n",
      "0      James      Butt          Benton, John B Jr     6649 N Blue Gum St   \n",
      "1  Josephine   Darakjy      Chanay, Jeffrey A Esq    4 B Blue Ridge Blvd   \n",
      "2        Art    Venere        Chemel, James L Cpa   8 W Cerritos Ave #54   \n",
      "3      Lenna  Paprocki     Feltz Printing Service            639 Main St   \n",
      "4    Donette    Foller        Printing Dimensions           34 Center St   \n",
      "5     Simona   Morasca        Chapman, Ross E Esq           3 Mcauley Dr   \n",
      "6     Mitsue   Tollner         Morlong Associates              7 Eads St   \n",
      "7      Leota  Dilliard           Commercial Press       7 W Jackson Blvd   \n",
      "8       Sage    Wieser  Truhlar And Truhlar Attys       5 Boston Ave #88   \n",
      "9       Kris   Marrier    King, Christopher A Esq  228 Runamuck Pl #2808   \n",
      "\n",
      "          city          county state    zip        phone1        phone2  \\\n",
      "0  New Orleans         Orleans    LA  70116  504-621-8927  504-845-1427   \n",
      "1     Brighton      Livingston    MI  48116  810-292-9388  810-374-9840   \n",
      "2   Bridgeport      Gloucester    NJ   8014  856-636-8749  856-264-4130   \n",
      "3    Anchorage       Anchorage    AK  99501  907-385-4412  907-921-2010   \n",
      "4     Hamilton          Butler    OH  45011  513-570-1893  513-549-4561   \n",
      "5      Ashland         Ashland    OH  44805  419-503-2484  419-800-6759   \n",
      "6      Chicago            Cook    IL  60632  773-573-6914  773-924-8565   \n",
      "7     San Jose     Santa Clara    CA  95111  408-752-3500  408-813-1105   \n",
      "8  Sioux Falls       Minnehaha    SD  57105  605-414-2147  605-794-4895   \n",
      "9    Baltimore  Baltimore City    MD  21224  410-655-8723  410-804-4694   \n",
      "\n",
      "                           email                                    web  \n",
      "0                jbutt@gmail.com           http://www.bentonjohnbjr.com  \n",
      "1  josephine_darakjy@darakjy.org       http://www.chanayjeffreyaesq.com  \n",
      "2                 art@venere.org         http://www.chemeljameslcpa.com  \n",
      "3          lpaprocki@hotmail.com    http://www.feltzprintingservice.com  \n",
      "4         donette.foller@cox.net      http://www.printingdimensions.com  \n",
      "5             simona@morasca.com         http://www.chapmanrosseesq.com  \n",
      "6       mitsue_tollner@yahoo.com       http://www.morlongassociates.com  \n",
      "7              leota@hotmail.com         http://www.commercialpress.com  \n",
      "8            sage_wieser@cox.net  http://www.truhlarandtruhlarattys.com  \n",
      "9                 kris@gmail.com     http://www.kingchristopheraesq.com  \n"
     ]
    }
   ],
   "source": [
    "p = pd.read_csv('us-500.csv').head(10)\n",
    "\n",
    "print(p)"
   ],
   "metadata": {
    "collapsed": false,
    "pycharm": {
     "name": "#%%xxчасть\n"
    }
   }
  },
  {
   "cell_type": "code",
   "execution_count": 35,
   "outputs": [],
   "source": [
    "#ввиде строки через запятую\n",
    "p.to_csv('my_csv',index = False)\n",
    "#ввиде таблицы\n",
    "p.to_csv('my_csv.csv',index = False)\n",
    "\n",
    "\n"
   ],
   "metadata": {
    "collapsed": false,
    "pycharm": {
     "name": "#%%запись и сохранение нового сsv файла\n"
    }
   }
  },
  {
   "cell_type": "code",
   "execution_count": 11,
   "outputs": [
    {
     "data": {
      "text/plain": "    OrderDate   Region       Rep     Item  Units  Unit Cost    Total\n0  2018-01-06     East     Jones   Pencil     95       1.99   189.05\n1  2018-01-23  Central    Kivell   Binder     50      19.99   999.50\n2  2018-02-09  Central   Jardine   Pencil     36       4.99   179.64\n3  2018-02-26  Central      Gill      Pen     27      19.99   539.73\n4  2018-03-15     West   Sorvino   Pencil     56       2.99   167.44\n5  2018-04-01     East     Jones   Binder     60       4.99   299.40\n6  2018-04-18  Central   Andrews   Pencil     75       1.99   149.25\n7  2018-05-05  Central   Jardine   Pencil     90       4.99   449.10\n8  2018-05-22     West  Thompson   Pencil     32       1.99    63.68\n9  2018-06-08     East     Jones   Binder     60       8.99   539.40\n10 2018-06-25  Central    Morgan   Pencil     90       4.99   449.10\n11 2018-07-12     East    Howard   Binder     29       1.99    57.71\n12 2018-07-29     East    Parent   Binder     81      19.99  1619.19\n13 2018-08-15     East     Jones   Pencil     35       4.99   174.65\n14 2018-09-01  Central     Smith     Desk      2     125.00   250.00\n15 2018-09-18     East     Jones  Pen Set     16      15.99   255.84\n16 2018-10-05  Central    Morgan   Binder     28       8.99   251.72\n17 2018-10-22     East     Jones      Pen     64       8.99   575.36\n18 2018-11-08     East    Parent      Pen     15      19.99   299.85\n19 2018-11-25  Central    Kivell  Pen Set     96       4.99   479.04\n20 2018-12-12  Central     Smith   Pencil     67       1.29    86.43\n21 2018-12-29     East    Parent  Pen Set     74      15.99  1183.26\n22 2019-01-15  Central      Gill   Binder     46       8.99   413.54\n23 2019-02-01  Central     Smith   Binder     87      15.00  1305.00\n24 2019-02-18     East     Jones   Binder      4       4.99    19.96\n25 2019-03-07     West   Sorvino   Binder      7      19.99   139.93\n26 2019-03-24  Central   Jardine  Pen Set     50       4.99   249.50\n27 2019-04-10  Central   Andrews   Pencil     66       1.99   131.34\n28 2019-04-27     East    Howard      Pen     96       4.99   479.04\n29 2019-05-14  Central      Gill   Pencil     53       1.29    68.37\n30 2019-05-31  Central      Gill   Binder     80       8.99   719.20\n31 2019-06-17  Central    Kivell     Desk      5     125.00   625.00\n32 2019-07-04     East     Jones  Pen Set     62       4.99   309.38\n33 2019-07-21  Central    Morgan  Pen Set     55      12.49   686.95\n34 2019-08-07  Central    Kivell  Pen Set     42      23.95  1005.90\n35 2019-08-24     West   Sorvino     Desk      3     275.00   825.00\n36 2019-09-10  Central      Gill   Pencil      7       1.29     9.03\n37 2019-09-27     West   Sorvino      Pen     76       1.99   151.24\n38 2019-10-14     West  Thompson   Binder     57      19.99  1139.43\n39 2019-10-31  Central   Andrews   Pencil     14       1.29    18.06\n40 2019-11-17  Central   Jardine   Binder     11       4.99    54.89\n41 2019-12-04  Central   Jardine   Binder     94      19.99  1879.06\n42 2019-12-21  Central   Andrews   Binder     28       4.99   139.72",
      "text/html": "<div>\n<style scoped>\n    .dataframe tbody tr th:only-of-type {\n        vertical-align: middle;\n    }\n\n    .dataframe tbody tr th {\n        vertical-align: top;\n    }\n\n    .dataframe thead th {\n        text-align: right;\n    }\n</style>\n<table border=\"1\" class=\"dataframe\">\n  <thead>\n    <tr style=\"text-align: right;\">\n      <th></th>\n      <th>OrderDate</th>\n      <th>Region</th>\n      <th>Rep</th>\n      <th>Item</th>\n      <th>Units</th>\n      <th>Unit Cost</th>\n      <th>Total</th>\n    </tr>\n  </thead>\n  <tbody>\n    <tr>\n      <th>0</th>\n      <td>2018-01-06</td>\n      <td>East</td>\n      <td>Jones</td>\n      <td>Pencil</td>\n      <td>95</td>\n      <td>1.99</td>\n      <td>189.05</td>\n    </tr>\n    <tr>\n      <th>1</th>\n      <td>2018-01-23</td>\n      <td>Central</td>\n      <td>Kivell</td>\n      <td>Binder</td>\n      <td>50</td>\n      <td>19.99</td>\n      <td>999.50</td>\n    </tr>\n    <tr>\n      <th>2</th>\n      <td>2018-02-09</td>\n      <td>Central</td>\n      <td>Jardine</td>\n      <td>Pencil</td>\n      <td>36</td>\n      <td>4.99</td>\n      <td>179.64</td>\n    </tr>\n    <tr>\n      <th>3</th>\n      <td>2018-02-26</td>\n      <td>Central</td>\n      <td>Gill</td>\n      <td>Pen</td>\n      <td>27</td>\n      <td>19.99</td>\n      <td>539.73</td>\n    </tr>\n    <tr>\n      <th>4</th>\n      <td>2018-03-15</td>\n      <td>West</td>\n      <td>Sorvino</td>\n      <td>Pencil</td>\n      <td>56</td>\n      <td>2.99</td>\n      <td>167.44</td>\n    </tr>\n    <tr>\n      <th>5</th>\n      <td>2018-04-01</td>\n      <td>East</td>\n      <td>Jones</td>\n      <td>Binder</td>\n      <td>60</td>\n      <td>4.99</td>\n      <td>299.40</td>\n    </tr>\n    <tr>\n      <th>6</th>\n      <td>2018-04-18</td>\n      <td>Central</td>\n      <td>Andrews</td>\n      <td>Pencil</td>\n      <td>75</td>\n      <td>1.99</td>\n      <td>149.25</td>\n    </tr>\n    <tr>\n      <th>7</th>\n      <td>2018-05-05</td>\n      <td>Central</td>\n      <td>Jardine</td>\n      <td>Pencil</td>\n      <td>90</td>\n      <td>4.99</td>\n      <td>449.10</td>\n    </tr>\n    <tr>\n      <th>8</th>\n      <td>2018-05-22</td>\n      <td>West</td>\n      <td>Thompson</td>\n      <td>Pencil</td>\n      <td>32</td>\n      <td>1.99</td>\n      <td>63.68</td>\n    </tr>\n    <tr>\n      <th>9</th>\n      <td>2018-06-08</td>\n      <td>East</td>\n      <td>Jones</td>\n      <td>Binder</td>\n      <td>60</td>\n      <td>8.99</td>\n      <td>539.40</td>\n    </tr>\n    <tr>\n      <th>10</th>\n      <td>2018-06-25</td>\n      <td>Central</td>\n      <td>Morgan</td>\n      <td>Pencil</td>\n      <td>90</td>\n      <td>4.99</td>\n      <td>449.10</td>\n    </tr>\n    <tr>\n      <th>11</th>\n      <td>2018-07-12</td>\n      <td>East</td>\n      <td>Howard</td>\n      <td>Binder</td>\n      <td>29</td>\n      <td>1.99</td>\n      <td>57.71</td>\n    </tr>\n    <tr>\n      <th>12</th>\n      <td>2018-07-29</td>\n      <td>East</td>\n      <td>Parent</td>\n      <td>Binder</td>\n      <td>81</td>\n      <td>19.99</td>\n      <td>1619.19</td>\n    </tr>\n    <tr>\n      <th>13</th>\n      <td>2018-08-15</td>\n      <td>East</td>\n      <td>Jones</td>\n      <td>Pencil</td>\n      <td>35</td>\n      <td>4.99</td>\n      <td>174.65</td>\n    </tr>\n    <tr>\n      <th>14</th>\n      <td>2018-09-01</td>\n      <td>Central</td>\n      <td>Smith</td>\n      <td>Desk</td>\n      <td>2</td>\n      <td>125.00</td>\n      <td>250.00</td>\n    </tr>\n    <tr>\n      <th>15</th>\n      <td>2018-09-18</td>\n      <td>East</td>\n      <td>Jones</td>\n      <td>Pen Set</td>\n      <td>16</td>\n      <td>15.99</td>\n      <td>255.84</td>\n    </tr>\n    <tr>\n      <th>16</th>\n      <td>2018-10-05</td>\n      <td>Central</td>\n      <td>Morgan</td>\n      <td>Binder</td>\n      <td>28</td>\n      <td>8.99</td>\n      <td>251.72</td>\n    </tr>\n    <tr>\n      <th>17</th>\n      <td>2018-10-22</td>\n      <td>East</td>\n      <td>Jones</td>\n      <td>Pen</td>\n      <td>64</td>\n      <td>8.99</td>\n      <td>575.36</td>\n    </tr>\n    <tr>\n      <th>18</th>\n      <td>2018-11-08</td>\n      <td>East</td>\n      <td>Parent</td>\n      <td>Pen</td>\n      <td>15</td>\n      <td>19.99</td>\n      <td>299.85</td>\n    </tr>\n    <tr>\n      <th>19</th>\n      <td>2018-11-25</td>\n      <td>Central</td>\n      <td>Kivell</td>\n      <td>Pen Set</td>\n      <td>96</td>\n      <td>4.99</td>\n      <td>479.04</td>\n    </tr>\n    <tr>\n      <th>20</th>\n      <td>2018-12-12</td>\n      <td>Central</td>\n      <td>Smith</td>\n      <td>Pencil</td>\n      <td>67</td>\n      <td>1.29</td>\n      <td>86.43</td>\n    </tr>\n    <tr>\n      <th>21</th>\n      <td>2018-12-29</td>\n      <td>East</td>\n      <td>Parent</td>\n      <td>Pen Set</td>\n      <td>74</td>\n      <td>15.99</td>\n      <td>1183.26</td>\n    </tr>\n    <tr>\n      <th>22</th>\n      <td>2019-01-15</td>\n      <td>Central</td>\n      <td>Gill</td>\n      <td>Binder</td>\n      <td>46</td>\n      <td>8.99</td>\n      <td>413.54</td>\n    </tr>\n    <tr>\n      <th>23</th>\n      <td>2019-02-01</td>\n      <td>Central</td>\n      <td>Smith</td>\n      <td>Binder</td>\n      <td>87</td>\n      <td>15.00</td>\n      <td>1305.00</td>\n    </tr>\n    <tr>\n      <th>24</th>\n      <td>2019-02-18</td>\n      <td>East</td>\n      <td>Jones</td>\n      <td>Binder</td>\n      <td>4</td>\n      <td>4.99</td>\n      <td>19.96</td>\n    </tr>\n    <tr>\n      <th>25</th>\n      <td>2019-03-07</td>\n      <td>West</td>\n      <td>Sorvino</td>\n      <td>Binder</td>\n      <td>7</td>\n      <td>19.99</td>\n      <td>139.93</td>\n    </tr>\n    <tr>\n      <th>26</th>\n      <td>2019-03-24</td>\n      <td>Central</td>\n      <td>Jardine</td>\n      <td>Pen Set</td>\n      <td>50</td>\n      <td>4.99</td>\n      <td>249.50</td>\n    </tr>\n    <tr>\n      <th>27</th>\n      <td>2019-04-10</td>\n      <td>Central</td>\n      <td>Andrews</td>\n      <td>Pencil</td>\n      <td>66</td>\n      <td>1.99</td>\n      <td>131.34</td>\n    </tr>\n    <tr>\n      <th>28</th>\n      <td>2019-04-27</td>\n      <td>East</td>\n      <td>Howard</td>\n      <td>Pen</td>\n      <td>96</td>\n      <td>4.99</td>\n      <td>479.04</td>\n    </tr>\n    <tr>\n      <th>29</th>\n      <td>2019-05-14</td>\n      <td>Central</td>\n      <td>Gill</td>\n      <td>Pencil</td>\n      <td>53</td>\n      <td>1.29</td>\n      <td>68.37</td>\n    </tr>\n    <tr>\n      <th>30</th>\n      <td>2019-05-31</td>\n      <td>Central</td>\n      <td>Gill</td>\n      <td>Binder</td>\n      <td>80</td>\n      <td>8.99</td>\n      <td>719.20</td>\n    </tr>\n    <tr>\n      <th>31</th>\n      <td>2019-06-17</td>\n      <td>Central</td>\n      <td>Kivell</td>\n      <td>Desk</td>\n      <td>5</td>\n      <td>125.00</td>\n      <td>625.00</td>\n    </tr>\n    <tr>\n      <th>32</th>\n      <td>2019-07-04</td>\n      <td>East</td>\n      <td>Jones</td>\n      <td>Pen Set</td>\n      <td>62</td>\n      <td>4.99</td>\n      <td>309.38</td>\n    </tr>\n    <tr>\n      <th>33</th>\n      <td>2019-07-21</td>\n      <td>Central</td>\n      <td>Morgan</td>\n      <td>Pen Set</td>\n      <td>55</td>\n      <td>12.49</td>\n      <td>686.95</td>\n    </tr>\n    <tr>\n      <th>34</th>\n      <td>2019-08-07</td>\n      <td>Central</td>\n      <td>Kivell</td>\n      <td>Pen Set</td>\n      <td>42</td>\n      <td>23.95</td>\n      <td>1005.90</td>\n    </tr>\n    <tr>\n      <th>35</th>\n      <td>2019-08-24</td>\n      <td>West</td>\n      <td>Sorvino</td>\n      <td>Desk</td>\n      <td>3</td>\n      <td>275.00</td>\n      <td>825.00</td>\n    </tr>\n    <tr>\n      <th>36</th>\n      <td>2019-09-10</td>\n      <td>Central</td>\n      <td>Gill</td>\n      <td>Pencil</td>\n      <td>7</td>\n      <td>1.29</td>\n      <td>9.03</td>\n    </tr>\n    <tr>\n      <th>37</th>\n      <td>2019-09-27</td>\n      <td>West</td>\n      <td>Sorvino</td>\n      <td>Pen</td>\n      <td>76</td>\n      <td>1.99</td>\n      <td>151.24</td>\n    </tr>\n    <tr>\n      <th>38</th>\n      <td>2019-10-14</td>\n      <td>West</td>\n      <td>Thompson</td>\n      <td>Binder</td>\n      <td>57</td>\n      <td>19.99</td>\n      <td>1139.43</td>\n    </tr>\n    <tr>\n      <th>39</th>\n      <td>2019-10-31</td>\n      <td>Central</td>\n      <td>Andrews</td>\n      <td>Pencil</td>\n      <td>14</td>\n      <td>1.29</td>\n      <td>18.06</td>\n    </tr>\n    <tr>\n      <th>40</th>\n      <td>2019-11-17</td>\n      <td>Central</td>\n      <td>Jardine</td>\n      <td>Binder</td>\n      <td>11</td>\n      <td>4.99</td>\n      <td>54.89</td>\n    </tr>\n    <tr>\n      <th>41</th>\n      <td>2019-12-04</td>\n      <td>Central</td>\n      <td>Jardine</td>\n      <td>Binder</td>\n      <td>94</td>\n      <td>19.99</td>\n      <td>1879.06</td>\n    </tr>\n    <tr>\n      <th>42</th>\n      <td>2019-12-21</td>\n      <td>Central</td>\n      <td>Andrews</td>\n      <td>Binder</td>\n      <td>28</td>\n      <td>4.99</td>\n      <td>139.72</td>\n    </tr>\n  </tbody>\n</table>\n</div>"
     },
     "execution_count": 11,
     "metadata": {},
     "output_type": "execute_result"
    }
   ],
   "source": [
    "pd.read_excel('SampleData.xlsx',sheet_name='SalesOrders')\n"
   ],
   "metadata": {
    "collapsed": false,
    "pycharm": {
     "name": "#%%чтение exel input/output\n"
    }
   }
  },
  {
   "cell_type": "code",
   "execution_count": 12,
   "outputs": [],
   "source": [
    "df=pd.read_excel('SampleData.xlsx',sheet_name='SalesOrders')\n",
    "#создание эксель\n",
    "df.to_excel('MyExcel.xlsx',sheet_name='MySheet')\n",
    "\n"
   ],
   "metadata": {
    "collapsed": false,
    "pycharm": {
     "name": "#%%\n"
    }
   }
  },
  {
   "cell_type": "code",
   "execution_count": 25,
   "outputs": [
    {
     "ename": "ImportError",
     "evalue": "lxml not found, please install it",
     "output_type": "error",
     "traceback": [
      "\u001B[0;31m---------------------------------------------------------------------------\u001B[0m",
      "\u001B[0;31mImportError\u001B[0m                               Traceback (most recent call last)",
      "\u001B[0;32m/tmp/ipykernel_7341/2364780483.py\u001B[0m in \u001B[0;36m<module>\u001B[0;34m\u001B[0m\n\u001B[0;32m----> 1\u001B[0;31m \u001B[0mhtml_data\u001B[0m\u001B[0;34m=\u001B[0m\u001B[0mpd\u001B[0m\u001B[0;34m.\u001B[0m\u001B[0mread_html\u001B[0m\u001B[0;34m(\u001B[0m\u001B[0;34m'https://en.wikipedia.org/wiki/List_of_largest_cities_on_the_United_States_West_Coast'\u001B[0m\u001B[0;34m)\u001B[0m\u001B[0;34m\u001B[0m\u001B[0;34m\u001B[0m\u001B[0m\n\u001B[0m\u001B[1;32m      2\u001B[0m \u001B[0;34m\u001B[0m\u001B[0m\n\u001B[1;32m      3\u001B[0m \u001B[0;34m\u001B[0m\u001B[0m\n",
      "\u001B[0;32m~/anaconda3/envs/ml/lib/python3.9/site-packages/pandas/util/_decorators.py\u001B[0m in \u001B[0;36mwrapper\u001B[0;34m(*args, **kwargs)\u001B[0m\n\u001B[1;32m    309\u001B[0m                     \u001B[0mstacklevel\u001B[0m\u001B[0;34m=\u001B[0m\u001B[0mstacklevel\u001B[0m\u001B[0;34m,\u001B[0m\u001B[0;34m\u001B[0m\u001B[0;34m\u001B[0m\u001B[0m\n\u001B[1;32m    310\u001B[0m                 )\n\u001B[0;32m--> 311\u001B[0;31m             \u001B[0;32mreturn\u001B[0m \u001B[0mfunc\u001B[0m\u001B[0;34m(\u001B[0m\u001B[0;34m*\u001B[0m\u001B[0margs\u001B[0m\u001B[0;34m,\u001B[0m \u001B[0;34m**\u001B[0m\u001B[0mkwargs\u001B[0m\u001B[0;34m)\u001B[0m\u001B[0;34m\u001B[0m\u001B[0;34m\u001B[0m\u001B[0m\n\u001B[0m\u001B[1;32m    312\u001B[0m \u001B[0;34m\u001B[0m\u001B[0m\n\u001B[1;32m    313\u001B[0m         \u001B[0;32mreturn\u001B[0m \u001B[0mwrapper\u001B[0m\u001B[0;34m\u001B[0m\u001B[0;34m\u001B[0m\u001B[0m\n",
      "\u001B[0;32m~/anaconda3/envs/ml/lib/python3.9/site-packages/pandas/io/html.py\u001B[0m in \u001B[0;36mread_html\u001B[0;34m(io, match, flavor, header, index_col, skiprows, attrs, parse_dates, thousands, encoding, decimal, converters, na_values, keep_default_na, displayed_only)\u001B[0m\n\u001B[1;32m   1096\u001B[0m     \u001B[0mio\u001B[0m \u001B[0;34m=\u001B[0m \u001B[0mstringify_path\u001B[0m\u001B[0;34m(\u001B[0m\u001B[0mio\u001B[0m\u001B[0;34m)\u001B[0m\u001B[0;34m\u001B[0m\u001B[0;34m\u001B[0m\u001B[0m\n\u001B[1;32m   1097\u001B[0m \u001B[0;34m\u001B[0m\u001B[0m\n\u001B[0;32m-> 1098\u001B[0;31m     return _parse(\n\u001B[0m\u001B[1;32m   1099\u001B[0m         \u001B[0mflavor\u001B[0m\u001B[0;34m=\u001B[0m\u001B[0mflavor\u001B[0m\u001B[0;34m,\u001B[0m\u001B[0;34m\u001B[0m\u001B[0;34m\u001B[0m\u001B[0m\n\u001B[1;32m   1100\u001B[0m         \u001B[0mio\u001B[0m\u001B[0;34m=\u001B[0m\u001B[0mio\u001B[0m\u001B[0;34m,\u001B[0m\u001B[0;34m\u001B[0m\u001B[0;34m\u001B[0m\u001B[0m\n",
      "\u001B[0;32m~/anaconda3/envs/ml/lib/python3.9/site-packages/pandas/io/html.py\u001B[0m in \u001B[0;36m_parse\u001B[0;34m(flavor, io, match, attrs, encoding, displayed_only, **kwargs)\u001B[0m\n\u001B[1;32m    900\u001B[0m     \u001B[0mretained\u001B[0m \u001B[0;34m=\u001B[0m \u001B[0;32mNone\u001B[0m\u001B[0;34m\u001B[0m\u001B[0;34m\u001B[0m\u001B[0m\n\u001B[1;32m    901\u001B[0m     \u001B[0;32mfor\u001B[0m \u001B[0mflav\u001B[0m \u001B[0;32min\u001B[0m \u001B[0mflavor\u001B[0m\u001B[0;34m:\u001B[0m\u001B[0;34m\u001B[0m\u001B[0;34m\u001B[0m\u001B[0m\n\u001B[0;32m--> 902\u001B[0;31m         \u001B[0mparser\u001B[0m \u001B[0;34m=\u001B[0m \u001B[0m_parser_dispatch\u001B[0m\u001B[0;34m(\u001B[0m\u001B[0mflav\u001B[0m\u001B[0;34m)\u001B[0m\u001B[0;34m\u001B[0m\u001B[0;34m\u001B[0m\u001B[0m\n\u001B[0m\u001B[1;32m    903\u001B[0m         \u001B[0mp\u001B[0m \u001B[0;34m=\u001B[0m \u001B[0mparser\u001B[0m\u001B[0;34m(\u001B[0m\u001B[0mio\u001B[0m\u001B[0;34m,\u001B[0m \u001B[0mcompiled_match\u001B[0m\u001B[0;34m,\u001B[0m \u001B[0mattrs\u001B[0m\u001B[0;34m,\u001B[0m \u001B[0mencoding\u001B[0m\u001B[0;34m,\u001B[0m \u001B[0mdisplayed_only\u001B[0m\u001B[0;34m)\u001B[0m\u001B[0;34m\u001B[0m\u001B[0;34m\u001B[0m\u001B[0m\n\u001B[1;32m    904\u001B[0m \u001B[0;34m\u001B[0m\u001B[0m\n",
      "\u001B[0;32m~/anaconda3/envs/ml/lib/python3.9/site-packages/pandas/io/html.py\u001B[0m in \u001B[0;36m_parser_dispatch\u001B[0;34m(flavor)\u001B[0m\n\u001B[1;32m    857\u001B[0m     \u001B[0;32melse\u001B[0m\u001B[0;34m:\u001B[0m\u001B[0;34m\u001B[0m\u001B[0;34m\u001B[0m\u001B[0m\n\u001B[1;32m    858\u001B[0m         \u001B[0;32mif\u001B[0m \u001B[0;32mnot\u001B[0m \u001B[0m_HAS_LXML\u001B[0m\u001B[0;34m:\u001B[0m\u001B[0;34m\u001B[0m\u001B[0;34m\u001B[0m\u001B[0m\n\u001B[0;32m--> 859\u001B[0;31m             \u001B[0;32mraise\u001B[0m \u001B[0mImportError\u001B[0m\u001B[0;34m(\u001B[0m\u001B[0;34m\"lxml not found, please install it\"\u001B[0m\u001B[0;34m)\u001B[0m\u001B[0;34m\u001B[0m\u001B[0;34m\u001B[0m\u001B[0m\n\u001B[0m\u001B[1;32m    860\u001B[0m     \u001B[0;32mreturn\u001B[0m \u001B[0m_valid_parsers\u001B[0m\u001B[0;34m[\u001B[0m\u001B[0mflavor\u001B[0m\u001B[0;34m]\u001B[0m\u001B[0;34m\u001B[0m\u001B[0;34m\u001B[0m\u001B[0m\n\u001B[1;32m    861\u001B[0m \u001B[0;34m\u001B[0m\u001B[0m\n",
      "\u001B[0;31mImportError\u001B[0m: lxml not found, please install it"
     ]
    }
   ],
   "source": [
    "html_data=pd.read_html('https://en.wikipedia.org/wiki/List_of_largest_cities_on_the_United_States_West_Coast')\n"
   ],
   "metadata": {
    "collapsed": false,
    "pycharm": {
     "name": "#%%чтение html страниц\n"
    }
   }
  },
  {
   "cell_type": "code",
   "execution_count": 24,
   "outputs": [
    {
     "ename": "NameError",
     "evalue": "name 'html_data' is not defined",
     "output_type": "error",
     "traceback": [
      "\u001B[0;31m---------------------------------------------------------------------------\u001B[0m",
      "\u001B[0;31mNameError\u001B[0m                                 Traceback (most recent call last)",
      "\u001B[0;32m/tmp/ipykernel_7341/3084716846.py\u001B[0m in \u001B[0;36m<module>\u001B[0;34m\u001B[0m\n\u001B[0;32m----> 1\u001B[0;31m \u001B[0mhtml_data\u001B[0m\u001B[0;34m[\u001B[0m\u001B[0;36m1\u001B[0m\u001B[0;34m]\u001B[0m\u001B[0;34m\u001B[0m\u001B[0;34m\u001B[0m\u001B[0m\n\u001B[0m",
      "\u001B[0;31mNameError\u001B[0m: name 'html_data' is not defined"
     ]
    }
   ],
   "source": [
    "html_data[0]#1 таблица\n",
    "html_data[1]#2\n",
    "\n",
    "#"
   ],
   "metadata": {
    "collapsed": false,
    "pycharm": {
     "name": "#%%\n"
    }
   }
  },
  {
   "cell_type": "code",
   "execution_count": 26,
   "outputs": [
    {
     "ename": "NameError",
     "evalue": "name 'html_data' is not defined",
     "output_type": "error",
     "traceback": [
      "\u001B[0;31m---------------------------------------------------------------------------\u001B[0m",
      "\u001B[0;31mNameError\u001B[0m                                 Traceback (most recent call last)",
      "\u001B[0;32m/tmp/ipykernel_7341/3629024487.py\u001B[0m in \u001B[0;36m<module>\u001B[0;34m\u001B[0m\n\u001B[0;32m----> 1\u001B[0;31m \u001B[0mdata\u001B[0m\u001B[0;34m=\u001B[0m\u001B[0mhtml_data\u001B[0m\u001B[0;34m[\u001B[0m\u001B[0;36m1\u001B[0m\u001B[0;34m]\u001B[0m\u001B[0;34m.\u001B[0m\u001B[0mhead\u001B[0m\u001B[0;34m(\u001B[0m\u001B[0;36m20\u001B[0m\u001B[0;34m)\u001B[0m\u001B[0;34m\u001B[0m\u001B[0;34m\u001B[0m\u001B[0m\n\u001B[0m\u001B[1;32m      2\u001B[0m \u001B[0;34m\u001B[0m\u001B[0m\n\u001B[1;32m      3\u001B[0m \u001B[0;34m\u001B[0m\u001B[0m\n",
      "\u001B[0;31mNameError\u001B[0m: name 'html_data' is not defined"
     ]
    }
   ],
   "source": [
    "data=html_data[1].head(20)\n"
   ],
   "metadata": {
    "collapsed": false,
    "pycharm": {
     "name": "#%%\n"
    }
   }
  },
  {
   "cell_type": "code",
   "execution_count": 27,
   "outputs": [
    {
     "ename": "NameError",
     "evalue": "name 'data' is not defined",
     "output_type": "error",
     "traceback": [
      "\u001B[0;31m---------------------------------------------------------------------------\u001B[0m",
      "\u001B[0;31mNameError\u001B[0m                                 Traceback (most recent call last)",
      "\u001B[0;32m/tmp/ipykernel_7341/3705793799.py\u001B[0m in \u001B[0;36m<module>\u001B[0;34m\u001B[0m\n\u001B[0;32m----> 1\u001B[0;31m \u001B[0mdata\u001B[0m\u001B[0;34m.\u001B[0m\u001B[0mto_csv\u001B[0m\u001B[0;34m(\u001B[0m\u001B[0;34m'html_data.csv'\u001B[0m\u001B[0;34m)\u001B[0m\u001B[0;34m\u001B[0m\u001B[0;34m\u001B[0m\u001B[0m\n\u001B[0m",
      "\u001B[0;31mNameError\u001B[0m: name 'data' is not defined"
     ]
    }
   ],
   "source": [
    "data.to_csv('html_data.csv')"
   ],
   "metadata": {
    "collapsed": false,
    "pycharm": {
     "name": "#%%\n"
    }
   }
  },
  {
   "cell_type": "code",
   "execution_count": 28,
   "outputs": [
    {
     "data": {
      "text/plain": "        Rank                                              Name Platform  \\\n0          1                                        Wii Sports      Wii   \n1          2                                 Super Mario Bros.      NES   \n2          3                                    Mario Kart Wii      Wii   \n3          4                                 Wii Sports Resort      Wii   \n4          5                          Pokemon Red/Pokemon Blue       GB   \n...      ...                                               ...      ...   \n16593  16596                Woody Woodpecker in Crazy Castle 5      GBA   \n16594  16597                     Men in Black II: Alien Escape       GC   \n16595  16598  SCORE International Baja 1000: The Official Game      PS2   \n16596  16599                                        Know How 2       DS   \n16597  16600                                  Spirits & Spells      GBA   \n\n         Year         Genre   Publisher  NA_Sales  EU_Sales  JP_Sales  \\\n0      2006.0        Sports    Nintendo     41.49     29.02      3.77   \n1      1985.0      Platform    Nintendo     29.08      3.58      6.81   \n2      2008.0        Racing    Nintendo     15.85     12.88      3.79   \n3      2009.0        Sports    Nintendo     15.75     11.01      3.28   \n4      1996.0  Role-Playing    Nintendo     11.27      8.89     10.22   \n...       ...           ...         ...       ...       ...       ...   \n16593  2002.0      Platform       Kemco      0.01      0.00      0.00   \n16594  2003.0       Shooter  Infogrames      0.01      0.00      0.00   \n16595  2008.0        Racing  Activision      0.00      0.00      0.00   \n16596  2010.0        Puzzle    7G//AMES      0.00      0.01      0.00   \n16597  2003.0      Platform     Wanadoo      0.01      0.00      0.00   \n\n       Other_Sales  Global_Sales  \n0             8.46         82.74  \n1             0.77         40.24  \n2             3.31         35.82  \n3             2.96         33.00  \n4             1.00         31.37  \n...            ...           ...  \n16593         0.00          0.01  \n16594         0.00          0.01  \n16595         0.00          0.01  \n16596         0.00          0.01  \n16597         0.00          0.01  \n\n[16598 rows x 11 columns]",
      "text/html": "<div>\n<style scoped>\n    .dataframe tbody tr th:only-of-type {\n        vertical-align: middle;\n    }\n\n    .dataframe tbody tr th {\n        vertical-align: top;\n    }\n\n    .dataframe thead th {\n        text-align: right;\n    }\n</style>\n<table border=\"1\" class=\"dataframe\">\n  <thead>\n    <tr style=\"text-align: right;\">\n      <th></th>\n      <th>Rank</th>\n      <th>Name</th>\n      <th>Platform</th>\n      <th>Year</th>\n      <th>Genre</th>\n      <th>Publisher</th>\n      <th>NA_Sales</th>\n      <th>EU_Sales</th>\n      <th>JP_Sales</th>\n      <th>Other_Sales</th>\n      <th>Global_Sales</th>\n    </tr>\n  </thead>\n  <tbody>\n    <tr>\n      <th>0</th>\n      <td>1</td>\n      <td>Wii Sports</td>\n      <td>Wii</td>\n      <td>2006.0</td>\n      <td>Sports</td>\n      <td>Nintendo</td>\n      <td>41.49</td>\n      <td>29.02</td>\n      <td>3.77</td>\n      <td>8.46</td>\n      <td>82.74</td>\n    </tr>\n    <tr>\n      <th>1</th>\n      <td>2</td>\n      <td>Super Mario Bros.</td>\n      <td>NES</td>\n      <td>1985.0</td>\n      <td>Platform</td>\n      <td>Nintendo</td>\n      <td>29.08</td>\n      <td>3.58</td>\n      <td>6.81</td>\n      <td>0.77</td>\n      <td>40.24</td>\n    </tr>\n    <tr>\n      <th>2</th>\n      <td>3</td>\n      <td>Mario Kart Wii</td>\n      <td>Wii</td>\n      <td>2008.0</td>\n      <td>Racing</td>\n      <td>Nintendo</td>\n      <td>15.85</td>\n      <td>12.88</td>\n      <td>3.79</td>\n      <td>3.31</td>\n      <td>35.82</td>\n    </tr>\n    <tr>\n      <th>3</th>\n      <td>4</td>\n      <td>Wii Sports Resort</td>\n      <td>Wii</td>\n      <td>2009.0</td>\n      <td>Sports</td>\n      <td>Nintendo</td>\n      <td>15.75</td>\n      <td>11.01</td>\n      <td>3.28</td>\n      <td>2.96</td>\n      <td>33.00</td>\n    </tr>\n    <tr>\n      <th>4</th>\n      <td>5</td>\n      <td>Pokemon Red/Pokemon Blue</td>\n      <td>GB</td>\n      <td>1996.0</td>\n      <td>Role-Playing</td>\n      <td>Nintendo</td>\n      <td>11.27</td>\n      <td>8.89</td>\n      <td>10.22</td>\n      <td>1.00</td>\n      <td>31.37</td>\n    </tr>\n    <tr>\n      <th>...</th>\n      <td>...</td>\n      <td>...</td>\n      <td>...</td>\n      <td>...</td>\n      <td>...</td>\n      <td>...</td>\n      <td>...</td>\n      <td>...</td>\n      <td>...</td>\n      <td>...</td>\n      <td>...</td>\n    </tr>\n    <tr>\n      <th>16593</th>\n      <td>16596</td>\n      <td>Woody Woodpecker in Crazy Castle 5</td>\n      <td>GBA</td>\n      <td>2002.0</td>\n      <td>Platform</td>\n      <td>Kemco</td>\n      <td>0.01</td>\n      <td>0.00</td>\n      <td>0.00</td>\n      <td>0.00</td>\n      <td>0.01</td>\n    </tr>\n    <tr>\n      <th>16594</th>\n      <td>16597</td>\n      <td>Men in Black II: Alien Escape</td>\n      <td>GC</td>\n      <td>2003.0</td>\n      <td>Shooter</td>\n      <td>Infogrames</td>\n      <td>0.01</td>\n      <td>0.00</td>\n      <td>0.00</td>\n      <td>0.00</td>\n      <td>0.01</td>\n    </tr>\n    <tr>\n      <th>16595</th>\n      <td>16598</td>\n      <td>SCORE International Baja 1000: The Official Game</td>\n      <td>PS2</td>\n      <td>2008.0</td>\n      <td>Racing</td>\n      <td>Activision</td>\n      <td>0.00</td>\n      <td>0.00</td>\n      <td>0.00</td>\n      <td>0.00</td>\n      <td>0.01</td>\n    </tr>\n    <tr>\n      <th>16596</th>\n      <td>16599</td>\n      <td>Know How 2</td>\n      <td>DS</td>\n      <td>2010.0</td>\n      <td>Puzzle</td>\n      <td>7G//AMES</td>\n      <td>0.00</td>\n      <td>0.01</td>\n      <td>0.00</td>\n      <td>0.00</td>\n      <td>0.01</td>\n    </tr>\n    <tr>\n      <th>16597</th>\n      <td>16600</td>\n      <td>Spirits &amp; Spells</td>\n      <td>GBA</td>\n      <td>2003.0</td>\n      <td>Platform</td>\n      <td>Wanadoo</td>\n      <td>0.01</td>\n      <td>0.00</td>\n      <td>0.00</td>\n      <td>0.00</td>\n      <td>0.01</td>\n    </tr>\n  </tbody>\n</table>\n<p>16598 rows × 11 columns</p>\n</div>"
     },
     "execution_count": 28,
     "metadata": {},
     "output_type": "execute_result"
    }
   ],
   "source": [
    "pd.read_csv('vgsales.csv')\n"
   ],
   "metadata": {
    "collapsed": false,
    "pycharm": {
     "name": "#%%\n"
    }
   }
  },
  {
   "cell_type": "code",
   "execution_count": 29,
   "outputs": [
    {
     "data": {
      "text/plain": "   Rank                       Name Platform    Year         Genre Publisher  \\\n0     1                 Wii Sports      Wii  2006.0        Sports  Nintendo   \n1     2          Super Mario Bros.      NES  1985.0      Platform  Nintendo   \n2     3             Mario Kart Wii      Wii  2008.0        Racing  Nintendo   \n3     4          Wii Sports Resort      Wii  2009.0        Sports  Nintendo   \n4     5   Pokemon Red/Pokemon Blue       GB  1996.0  Role-Playing  Nintendo   \n5     6                     Tetris       GB  1989.0        Puzzle  Nintendo   \n6     7      New Super Mario Bros.       DS  2006.0      Platform  Nintendo   \n7     8                   Wii Play      Wii  2006.0          Misc  Nintendo   \n8     9  New Super Mario Bros. Wii      Wii  2009.0      Platform  Nintendo   \n9    10                  Duck Hunt      NES  1984.0       Shooter  Nintendo   \n\n   NA_Sales  EU_Sales  JP_Sales  Other_Sales  Global_Sales  \n0     41.49     29.02      3.77         8.46         82.74  \n1     29.08      3.58      6.81         0.77         40.24  \n2     15.85     12.88      3.79         3.31         35.82  \n3     15.75     11.01      3.28         2.96         33.00  \n4     11.27      8.89     10.22         1.00         31.37  \n5     23.20      2.26      4.22         0.58         30.26  \n6     11.38      9.23      6.50         2.90         30.01  \n7     14.03      9.20      2.93         2.85         29.02  \n8     14.59      7.06      4.70         2.26         28.62  \n9     26.93      0.63      0.28         0.47         28.31  ",
      "text/html": "<div>\n<style scoped>\n    .dataframe tbody tr th:only-of-type {\n        vertical-align: middle;\n    }\n\n    .dataframe tbody tr th {\n        vertical-align: top;\n    }\n\n    .dataframe thead th {\n        text-align: right;\n    }\n</style>\n<table border=\"1\" class=\"dataframe\">\n  <thead>\n    <tr style=\"text-align: right;\">\n      <th></th>\n      <th>Rank</th>\n      <th>Name</th>\n      <th>Platform</th>\n      <th>Year</th>\n      <th>Genre</th>\n      <th>Publisher</th>\n      <th>NA_Sales</th>\n      <th>EU_Sales</th>\n      <th>JP_Sales</th>\n      <th>Other_Sales</th>\n      <th>Global_Sales</th>\n    </tr>\n  </thead>\n  <tbody>\n    <tr>\n      <th>0</th>\n      <td>1</td>\n      <td>Wii Sports</td>\n      <td>Wii</td>\n      <td>2006.0</td>\n      <td>Sports</td>\n      <td>Nintendo</td>\n      <td>41.49</td>\n      <td>29.02</td>\n      <td>3.77</td>\n      <td>8.46</td>\n      <td>82.74</td>\n    </tr>\n    <tr>\n      <th>1</th>\n      <td>2</td>\n      <td>Super Mario Bros.</td>\n      <td>NES</td>\n      <td>1985.0</td>\n      <td>Platform</td>\n      <td>Nintendo</td>\n      <td>29.08</td>\n      <td>3.58</td>\n      <td>6.81</td>\n      <td>0.77</td>\n      <td>40.24</td>\n    </tr>\n    <tr>\n      <th>2</th>\n      <td>3</td>\n      <td>Mario Kart Wii</td>\n      <td>Wii</td>\n      <td>2008.0</td>\n      <td>Racing</td>\n      <td>Nintendo</td>\n      <td>15.85</td>\n      <td>12.88</td>\n      <td>3.79</td>\n      <td>3.31</td>\n      <td>35.82</td>\n    </tr>\n    <tr>\n      <th>3</th>\n      <td>4</td>\n      <td>Wii Sports Resort</td>\n      <td>Wii</td>\n      <td>2009.0</td>\n      <td>Sports</td>\n      <td>Nintendo</td>\n      <td>15.75</td>\n      <td>11.01</td>\n      <td>3.28</td>\n      <td>2.96</td>\n      <td>33.00</td>\n    </tr>\n    <tr>\n      <th>4</th>\n      <td>5</td>\n      <td>Pokemon Red/Pokemon Blue</td>\n      <td>GB</td>\n      <td>1996.0</td>\n      <td>Role-Playing</td>\n      <td>Nintendo</td>\n      <td>11.27</td>\n      <td>8.89</td>\n      <td>10.22</td>\n      <td>1.00</td>\n      <td>31.37</td>\n    </tr>\n    <tr>\n      <th>5</th>\n      <td>6</td>\n      <td>Tetris</td>\n      <td>GB</td>\n      <td>1989.0</td>\n      <td>Puzzle</td>\n      <td>Nintendo</td>\n      <td>23.20</td>\n      <td>2.26</td>\n      <td>4.22</td>\n      <td>0.58</td>\n      <td>30.26</td>\n    </tr>\n    <tr>\n      <th>6</th>\n      <td>7</td>\n      <td>New Super Mario Bros.</td>\n      <td>DS</td>\n      <td>2006.0</td>\n      <td>Platform</td>\n      <td>Nintendo</td>\n      <td>11.38</td>\n      <td>9.23</td>\n      <td>6.50</td>\n      <td>2.90</td>\n      <td>30.01</td>\n    </tr>\n    <tr>\n      <th>7</th>\n      <td>8</td>\n      <td>Wii Play</td>\n      <td>Wii</td>\n      <td>2006.0</td>\n      <td>Misc</td>\n      <td>Nintendo</td>\n      <td>14.03</td>\n      <td>9.20</td>\n      <td>2.93</td>\n      <td>2.85</td>\n      <td>29.02</td>\n    </tr>\n    <tr>\n      <th>8</th>\n      <td>9</td>\n      <td>New Super Mario Bros. Wii</td>\n      <td>Wii</td>\n      <td>2009.0</td>\n      <td>Platform</td>\n      <td>Nintendo</td>\n      <td>14.59</td>\n      <td>7.06</td>\n      <td>4.70</td>\n      <td>2.26</td>\n      <td>28.62</td>\n    </tr>\n    <tr>\n      <th>9</th>\n      <td>10</td>\n      <td>Duck Hunt</td>\n      <td>NES</td>\n      <td>1984.0</td>\n      <td>Shooter</td>\n      <td>Nintendo</td>\n      <td>26.93</td>\n      <td>0.63</td>\n      <td>0.28</td>\n      <td>0.47</td>\n      <td>28.31</td>\n    </tr>\n  </tbody>\n</table>\n</div>"
     },
     "execution_count": 29,
     "metadata": {},
     "output_type": "execute_result"
    }
   ],
   "source": [
    "pd.read_csv('vgsales.csv').head(10)\n"
   ],
   "metadata": {
    "collapsed": false,
    "pycharm": {
     "name": "#%%\n"
    }
   }
  },
  {
   "cell_type": "code",
   "execution_count": 33,
   "outputs": [],
   "source": [
    "p = pd.read_csv('vgsales.csv')"
   ],
   "metadata": {
    "collapsed": false,
    "pycharm": {
     "name": "#%%\n"
    }
   }
  },
  {
   "cell_type": "code",
   "execution_count": 34,
   "outputs": [
    {
     "data": {
      "text/plain": "0.14665200626581515"
     },
     "execution_count": 34,
     "metadata": {},
     "output_type": "execute_result"
    }
   ],
   "source": [
    "p['EU_Sales'].mean()"
   ],
   "metadata": {
    "collapsed": false,
    "pycharm": {
     "name": "#%%среднее значение прождаж в европе\n"
    }
   }
  },
  {
   "cell_type": "code",
   "execution_count": 35,
   "outputs": [
    {
     "data": {
      "text/plain": "10.22"
     },
     "execution_count": 35,
     "metadata": {},
     "output_type": "execute_result"
    }
   ],
   "source": [
    "p['JP_Sales'].max()"
   ],
   "metadata": {
    "collapsed": false,
    "pycharm": {
     "name": "#%%наибольшее значение продаж в японии\n"
    }
   }
  },
  {
   "cell_type": "code",
   "execution_count": 37,
   "outputs": [
    {
     "data": {
      "text/plain": "5      Puzzle\n155    Puzzle\nName: Genre, dtype: object"
     },
     "execution_count": 37,
     "metadata": {},
     "output_type": "execute_result"
    }
   ],
   "source": [
    "p[p['Name']=='Tetris']['Genre']\n"
   ],
   "metadata": {
    "collapsed": false,
    "pycharm": {
     "name": "#%%жанр игры tetris\n"
    }
   }
  },
  {
   "cell_type": "code",
   "execution_count": 38,
   "outputs": [
    {
     "data": {
      "text/plain": "5      30.26\n155     5.58\nName: Global_Sales, dtype: float64"
     },
     "execution_count": 38,
     "metadata": {},
     "output_type": "execute_result"
    }
   ],
   "source": [
    "p[p['Name']=='Tetris']['Global_Sales']\n",
    "\n"
   ],
   "metadata": {
    "collapsed": false,
    "pycharm": {
     "name": "#%%количество продаж\n"
    }
   }
  },
  {
   "cell_type": "code",
   "execution_count": 39,
   "outputs": [
    {
     "data": {
      "text/plain": "0    Wii Sports\nName: Name, dtype: object"
     },
     "execution_count": 39,
     "metadata": {},
     "output_type": "execute_result"
    }
   ],
   "source": [
    "p[p['NA_Sales']==p['NA_Sales'].max()]['Name']\n",
    "\n"
   ],
   "metadata": {
    "collapsed": false,
    "pycharm": {
     "name": "#%%название игры с наибольшим количеством продаж в северной америке\n"
    }
   }
  },
  {
   "cell_type": "code",
   "execution_count": 42,
   "outputs": [
    {
     "data": {
      "text/plain": "Genre\nAction          0.048236\nAdventure       0.040490\nFighting        0.103007\nMisc            0.061967\nPlatform        0.147596\nPuzzle          0.098471\nRacing          0.045388\nRole-Playing    0.236767\nShooter         0.029221\nSimulation      0.073472\nSports          0.057702\nStrategy        0.072628\nName: JP_Sales, dtype: float64"
     },
     "execution_count": 42,
     "metadata": {},
     "output_type": "execute_result"
    }
   ],
   "source": [
    "p.groupby('Genre').mean()['JP_Sales']\n",
    "\n"
   ],
   "metadata": {
    "collapsed": false,
    "pycharm": {
     "name": "#%%cреднее значение продаж по жанру в Японии\n"
    }
   }
  },
  {
   "cell_type": "code",
   "execution_count": 43,
   "outputs": [
    {
     "data": {
      "text/plain": "11493"
     },
     "execution_count": 43,
     "metadata": {},
     "output_type": "execute_result"
    }
   ],
   "source": [
    "p['Name'].nunique()\n",
    "\n"
   ],
   "metadata": {
    "collapsed": false,
    "pycharm": {
     "name": "#%%уникальные названия\n"
    }
   }
  },
  {
   "cell_type": "code",
   "execution_count": 44,
   "outputs": [
    {
     "data": {
      "text/plain": "Action    3316\nSports    2346\nMisc      1739\nName: Genre, dtype: int64"
     },
     "execution_count": 44,
     "metadata": {},
     "output_type": "execute_result"
    }
   ],
   "source": [
    "p['Genre'].value_counts().head(3)\n",
    "\n"
   ],
   "metadata": {
    "collapsed": false,
    "pycharm": {
     "name": "#%%3 наиболее распространенных жанра\n"
    }
   }
  },
  {
   "cell_type": "code",
   "execution_count": 45,
   "outputs": [],
   "source": [
    "def super_in_name(name):\n",
    "    if 'super' in name.lower().split():\n",
    "        return True\n",
    "    else:\n",
    "        return False\n",
    "\n"
   ],
   "metadata": {
    "collapsed": false,
    "pycharm": {
     "name": "#%%cсколько игр имею в названии super\n"
    }
   }
  },
  {
   "cell_type": "code",
   "execution_count": 47,
   "outputs": [
    {
     "data": {
      "text/plain": "289"
     },
     "execution_count": 47,
     "metadata": {},
     "output_type": "execute_result"
    }
   ],
   "source": [
    "sum(p['Name'].apply(lambda x:super_in_name(x)))\n"
   ],
   "metadata": {
    "collapsed": false,
    "pycharm": {
     "name": "#%%\n"
    }
   }
  }
 ],
 "metadata": {
  "kernelspec": {
   "display_name": "Python 3",
   "language": "python",
   "name": "python3"
  },
  "language_info": {
   "codemirror_mode": {
    "name": "ipython",
    "version": 2
   },
   "file_extension": ".py",
   "mimetype": "text/x-python",
   "name": "python",
   "nbconvert_exporter": "python",
   "pygments_lexer": "ipython2",
   "version": "2.7.6"
  }
 },
 "nbformat": 4,
 "nbformat_minor": 0
}