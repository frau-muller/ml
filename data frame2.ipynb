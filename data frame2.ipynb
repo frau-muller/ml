{
 "cells": [
  {
   "cell_type": "code",
   "execution_count": 4,
   "metadata": {
    "collapsed": true
   },
   "outputs": [],
   "source": [
    "import pandas as pd\n",
    "import numpy as np\n",
    "\n",
    "df1 = pd.DataFrame({'A':['A0', 'A1', 'A2', 'A3'],\n",
    "                      'B': ['B0', 'B1', 'B2', 'B3'],\n",
    "                      'C': ['C0', 'C1', 'C2', 'C3'],\n",
    "                      'D': ['D0', 'D1', 'D2', 'D3']},\n",
    "                       index=[0, 1, 2, 3])"
   ]
  },
  {
   "cell_type": "code",
   "execution_count": 2,
   "outputs": [],
   "source": [
    "df2 = pd.DataFrame({'A':['A4', 'A5', 'A6', 'A7'],\n",
    "                       'B': ['B4', 'B5', 'B6', 'B7'],\n",
    "                       'C': ['C4', 'C5', 'C6', 'C7'],\n",
    "                       'D': ['D4', 'D5', 'D6', 'D7']},\n",
    "                        index=[4, 5, 6, 7])"
   ],
   "metadata": {
    "collapsed": false,
    "pycharm": {
     "name": "#%%\n"
    }
   }
  },
  {
   "cell_type": "code",
   "execution_count": 3,
   "outputs": [],
   "source": [
    "df3 = pd.DataFrame({'A':['A8', 'A9', 'A10', 'A11'],\n",
    "                       'B': ['B8', 'B9', 'B10', 'B11'],\n",
    "                       'C': ['C8', 'C9', 'C10', 'C11'],\n",
    "                       'D': ['D8', 'D9', 'D10', 'D11']},\n",
    "                        index=[8, 9, 10, 11])\n"
   ],
   "metadata": {
    "collapsed": false,
    "pycharm": {
     "name": "#%%\n"
    }
   }
  },
  {
   "cell_type": "code",
   "execution_count": 5,
   "outputs": [
    {
     "name": "stdout",
     "output_type": "stream",
     "text": [
      "    A   B   C   D\n",
      "0  A0  B0  C0  D0\n",
      "1  A1  B1  C1  D1\n",
      "2  A2  B2  C2  D2\n",
      "3  A3  B3  C3  D3\n",
      "    A   B   C   D\n",
      "4  A4  B4  C4  D4\n",
      "5  A5  B5  C5  D5\n",
      "6  A6  B6  C6  D6\n",
      "7  A7  B7  C7  D7\n",
      "      A    B    C    D\n",
      "8    A8   B8   C8   D8\n",
      "9    A9   B9   C9   D9\n",
      "10  A10  B10  C10  D10\n",
      "11  A11  B11  C11  D11\n"
     ]
    }
   ],
   "source": [
    "print(df1)\n",
    "print(df2)\n",
    "print(df3)"
   ],
   "metadata": {
    "collapsed": false,
    "pycharm": {
     "name": "#%%\n"
    }
   }
  },
  {
   "cell_type": "code",
   "execution_count": 6,
   "outputs": [
    {
     "name": "stdout",
     "output_type": "stream",
     "text": [
      "      A    B    C    D\n",
      "0    A0   B0   C0   D0\n",
      "1    A1   B1   C1   D1\n",
      "2    A2   B2   C2   D2\n",
      "3    A3   B3   C3   D3\n",
      "4    A4   B4   C4   D4\n",
      "5    A5   B5   C5   D5\n",
      "6    A6   B6   C6   D6\n",
      "7    A7   B7   C7   D7\n",
      "8    A8   B8   C8   D8\n",
      "9    A9   B9   C9   D9\n",
      "10  A10  B10  C10  D10\n",
      "11  A11  B11  C11  D11\n"
     ]
    }
   ],
   "source": [
    "print(pd.concat([df1,df2,df3]))\n",
    "\n"
   ],
   "metadata": {
    "collapsed": false,
    "pycharm": {
     "name": "#%%oбъединение\n"
    }
   }
  },
  {
   "cell_type": "code",
   "execution_count": 8,
   "outputs": [
    {
     "name": "stdout",
     "output_type": "stream",
     "text": [
      "   order_id  user_id_x    user_name country  user_id_y  order_date       OS\n",
      "0       114          1  James Brown     USA          1  2020-02-11  Android\n",
      "1       235          2   Jack White     USA          2  2020-02-11      iOS\n",
      "2       432          3   Jane Green  France          3  2020-02-15  Android\n"
     ]
    }
   ],
   "source": [
    "df4 = pd.DataFrame({'order_id': [114, 235, 432],\n",
    "                         'user_id': [1, 2, 3],\n",
    "                         'user_name': ['James Brown', 'Jack White',\n",
    "                                       'Jane Green'],\n",
    "                         'country': ['USA', 'USA',\n",
    "                                        'France']})\n",
    "df5 = pd.DataFrame({'order_id': [114, 235, 432],\n",
    "                       'user_id': [1, 2, 3],\n",
    "                     'order_date': ['2020-02-11', '2020-02-11',\n",
    "                                       '2020-02-15'],\n",
    "                          'OS': ['Android', 'iOS', 'Android']})\n",
    "print(pd.merge(df4,df5,on ='order_id'))"
   ],
   "metadata": {
    "collapsed": false,
    "pycharm": {
     "name": "#%%слияние\n"
    }
   }
  },
  {
   "cell_type": "code",
   "execution_count": 11,
   "outputs": [
    {
     "name": "stdout",
     "output_type": "stream",
     "text": [
      "        user_name country  order_id  user_id  order_date       OS\n",
      "ind1  James Brown     USA     114.0      1.0  2020-02-11  Android\n",
      "ind2   Jack White     USA       NaN      NaN         NaN      NaN\n",
      "ind3   Jane Green  France     432.0      3.0  2020-02-15  Android\n"
     ]
    }
   ],
   "source": [
    "df6 = pd.DataFrame({\n",
    "                         'user_name': ['James Brown', 'Jack White',\n",
    "                                       'Jane Green'],\n",
    "                         'country': ['USA', 'USA',\n",
    "                                        'France']},\n",
    "                        index=['ind1', 'ind2', 'ind3'])\n",
    "df7 = pd.DataFrame({'order_id': [114, 235, 432],\n",
    "                       'user_id': [1, 2, 3],\n",
    "                     'order_date': ['2020-02-11', '2020-02-11',\n",
    "                                       '2020-02-15'],\n",
    "                          'OS': ['Android', 'iOS', 'Android']},\n",
    "                    index=['ind1', 'ind4', 'ind3'])\n",
    "\n",
    "print(df6.join(df7))"
   ],
   "metadata": {
    "collapsed": false,
    "pycharm": {
     "name": "#%%присоединение\n"
    }
   }
  },
  {
   "cell_type": "code",
   "execution_count": 15,
   "outputs": [
    {
     "name": "stdout",
     "output_type": "stream",
     "text": [
      "   A    B    C\n",
      "0  1  123  aaa\n",
      "1  2  245  bbb\n",
      "2  3  321  ccc\n",
      "3  4  123  ddd\n",
      "[123 245 321]\n",
      "3\n",
      "123    2\n",
      "245    1\n",
      "321    1\n",
      "Name: B, dtype: int64\n"
     ]
    }
   ],
   "source": [
    "df = pd.DataFrame({'A':[1, 2, 3, 4],\n",
    "                     'B':[123, 245, 321, 123],\n",
    "                       'C':['aaa', 'bbb', 'ccc', 'ddd']})\n",
    "\n",
    "print(df)\n",
    "print(df['B'].unique())\n",
    "#nunique длина\n",
    "print(df['B'].nunique())\n",
    "#value_counts колько раз значение встречается в столбце\n",
    "print(df['B'].value_counts())"
   ],
   "metadata": {
    "collapsed": false,
    "pycharm": {
     "name": "#%%нахождение уникальных значений\n"
    }
   }
  },
  {
   "cell_type": "code",
   "execution_count": 18,
   "outputs": [
    {
     "name": "stdout",
     "output_type": "stream",
     "text": [
      "   A    B    C\n",
      "0  1  123  aaa\n",
      "1  2  245  bbb\n",
      "0     3\n",
      "1     6\n",
      "2     9\n",
      "3    12\n",
      "Name: A, dtype: int64\n",
      "0     3\n",
      "1     6\n",
      "2     9\n",
      "3    12\n",
      "Name: A, dtype: int64\n"
     ]
    }
   ],
   "source": [
    "print(df[df['A'] < 3])\n",
    "#Применение функции\n",
    "def times3(x):\n",
    "    return x*3\n",
    "print(df['A'].apply(times3))\n",
    "print(df['A'].apply(lambda x: x*3))"
   ],
   "metadata": {
    "collapsed": false,
    "pycharm": {
     "name": "#%%вывожим строки,где А <3\n"
    }
   }
  },
  {
   "cell_type": "code",
   "execution_count": 20,
   "outputs": [
    {
     "name": "stdout",
     "output_type": "stream",
     "text": [
      "Index(['A', 'B', 'C'], dtype='object')\n",
      "RangeIndex(start=0, stop=4, step=1)\n"
     ]
    }
   ],
   "source": [
    "print(df.columns)\n",
    "print(df.index)"
   ],
   "metadata": {
    "collapsed": false,
    "pycharm": {
     "name": "#%%имена столбцов\n"
    }
   }
  },
  {
   "cell_type": "code",
   "execution_count": 21,
   "outputs": [
    {
     "name": "stdout",
     "output_type": "stream",
     "text": [
      "   A    B    C\n",
      "0  1  123  aaa\n",
      "3  4  123  ddd\n",
      "1  2  245  bbb\n",
      "2  3  321  ccc\n"
     ]
    }
   ],
   "source": [
    "print(df.sort_values('B'))\n",
    "\n"
   ],
   "metadata": {
    "collapsed": false,
    "pycharm": {
     "name": "#%%сортировка и упорядочение DF\n"
    }
   }
  }
 ],
 "metadata": {
  "kernelspec": {
   "display_name": "Python 3",
   "language": "python",
   "name": "python3"
  },
  "language_info": {
   "codemirror_mode": {
    "name": "ipython",
    "version": 2
   },
   "file_extension": ".py",
   "mimetype": "text/x-python",
   "name": "python",
   "nbconvert_exporter": "python",
   "pygments_lexer": "ipython2",
   "version": "2.7.6"
  }
 },
 "nbformat": 4,
 "nbformat_minor": 0
}