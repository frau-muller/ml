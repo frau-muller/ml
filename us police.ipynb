{
 "cells": [
  {
   "cell_type": "code",
   "execution_count": 1,
   "metadata": {
    "collapsed": true
   },
   "outputs": [],
   "source": [
    "import numpy as np\n",
    "import pandas as pd\n",
    "import seaborn as sns\n",
    "import matplotlib.pyplot as plt\n",
    "%matplotlib inline"
   ]
  },
  {
   "cell_type": "code",
   "execution_count": 2,
   "outputs": [],
   "source": [
    "shoot = pd.read_csv('shootings.csv')"
   ],
   "metadata": {
    "collapsed": false,
    "pycharm": {
     "name": "#%%\n"
    }
   }
  },
  {
   "cell_type": "code",
   "execution_count": 3,
   "outputs": [
    {
     "data": {
      "text/plain": "   id                 name        date   manner_of_death       armed   age  \\\n0   3           Tim Elliot  2015-01-02              shot         gun  53.0   \n1   4     Lewis Lee Lembke  2015-01-02              shot         gun  47.0   \n2   5   John Paul Quintero  2015-01-03  shot and Tasered     unarmed  23.0   \n3   8      Matthew Hoffman  2015-01-04              shot  toy weapon  32.0   \n4   9    Michael Rodriguez  2015-01-04              shot    nail gun  39.0   \n5  11    Kenneth Joe Brown  2015-01-04              shot         gun  18.0   \n6  13  Kenneth Arnold Buck  2015-01-05              shot         gun  22.0   \n7  15        Brock Nichols  2015-01-06              shot         gun  35.0   \n8  16        Autumn Steele  2015-01-06              shot     unarmed  34.0   \n9  17      Leslie Sapp III  2015-01-06              shot  toy weapon  47.0   \n\n  gender      race           city state  signs_of_mental_illness threat_level  \\\n0      M     Asian        Shelton    WA                     True       attack   \n1      M     White          Aloha    OR                    False       attack   \n2      M  Hispanic        Wichita    KS                    False        other   \n3      M     White  San Francisco    CA                     True       attack   \n4      M  Hispanic          Evans    CO                    False       attack   \n5      M     White        Guthrie    OK                    False       attack   \n6      M  Hispanic       Chandler    AZ                    False       attack   \n7      M     White        Assaria    KS                    False       attack   \n8      F     White     Burlington    IA                    False        other   \n9      M     Black      Knoxville    PA                    False       attack   \n\n          flee  body_camera          arms_category  \n0  Not fleeing        False                   Guns  \n1  Not fleeing        False                   Guns  \n2  Not fleeing        False                Unarmed  \n3  Not fleeing        False  Other unusual objects  \n4  Not fleeing        False       Piercing objects  \n5  Not fleeing        False                   Guns  \n6          Car        False                   Guns  \n7  Not fleeing        False                   Guns  \n8  Not fleeing         True                Unarmed  \n9  Not fleeing        False  Other unusual objects  ",
      "text/html": "<div>\n<style scoped>\n    .dataframe tbody tr th:only-of-type {\n        vertical-align: middle;\n    }\n\n    .dataframe tbody tr th {\n        vertical-align: top;\n    }\n\n    .dataframe thead th {\n        text-align: right;\n    }\n</style>\n<table border=\"1\" class=\"dataframe\">\n  <thead>\n    <tr style=\"text-align: right;\">\n      <th></th>\n      <th>id</th>\n      <th>name</th>\n      <th>date</th>\n      <th>manner_of_death</th>\n      <th>armed</th>\n      <th>age</th>\n      <th>gender</th>\n      <th>race</th>\n      <th>city</th>\n      <th>state</th>\n      <th>signs_of_mental_illness</th>\n      <th>threat_level</th>\n      <th>flee</th>\n      <th>body_camera</th>\n      <th>arms_category</th>\n    </tr>\n  </thead>\n  <tbody>\n    <tr>\n      <th>0</th>\n      <td>3</td>\n      <td>Tim Elliot</td>\n      <td>2015-01-02</td>\n      <td>shot</td>\n      <td>gun</td>\n      <td>53.0</td>\n      <td>M</td>\n      <td>Asian</td>\n      <td>Shelton</td>\n      <td>WA</td>\n      <td>True</td>\n      <td>attack</td>\n      <td>Not fleeing</td>\n      <td>False</td>\n      <td>Guns</td>\n    </tr>\n    <tr>\n      <th>1</th>\n      <td>4</td>\n      <td>Lewis Lee Lembke</td>\n      <td>2015-01-02</td>\n      <td>shot</td>\n      <td>gun</td>\n      <td>47.0</td>\n      <td>M</td>\n      <td>White</td>\n      <td>Aloha</td>\n      <td>OR</td>\n      <td>False</td>\n      <td>attack</td>\n      <td>Not fleeing</td>\n      <td>False</td>\n      <td>Guns</td>\n    </tr>\n    <tr>\n      <th>2</th>\n      <td>5</td>\n      <td>John Paul Quintero</td>\n      <td>2015-01-03</td>\n      <td>shot and Tasered</td>\n      <td>unarmed</td>\n      <td>23.0</td>\n      <td>M</td>\n      <td>Hispanic</td>\n      <td>Wichita</td>\n      <td>KS</td>\n      <td>False</td>\n      <td>other</td>\n      <td>Not fleeing</td>\n      <td>False</td>\n      <td>Unarmed</td>\n    </tr>\n    <tr>\n      <th>3</th>\n      <td>8</td>\n      <td>Matthew Hoffman</td>\n      <td>2015-01-04</td>\n      <td>shot</td>\n      <td>toy weapon</td>\n      <td>32.0</td>\n      <td>M</td>\n      <td>White</td>\n      <td>San Francisco</td>\n      <td>CA</td>\n      <td>True</td>\n      <td>attack</td>\n      <td>Not fleeing</td>\n      <td>False</td>\n      <td>Other unusual objects</td>\n    </tr>\n    <tr>\n      <th>4</th>\n      <td>9</td>\n      <td>Michael Rodriguez</td>\n      <td>2015-01-04</td>\n      <td>shot</td>\n      <td>nail gun</td>\n      <td>39.0</td>\n      <td>M</td>\n      <td>Hispanic</td>\n      <td>Evans</td>\n      <td>CO</td>\n      <td>False</td>\n      <td>attack</td>\n      <td>Not fleeing</td>\n      <td>False</td>\n      <td>Piercing objects</td>\n    </tr>\n    <tr>\n      <th>5</th>\n      <td>11</td>\n      <td>Kenneth Joe Brown</td>\n      <td>2015-01-04</td>\n      <td>shot</td>\n      <td>gun</td>\n      <td>18.0</td>\n      <td>M</td>\n      <td>White</td>\n      <td>Guthrie</td>\n      <td>OK</td>\n      <td>False</td>\n      <td>attack</td>\n      <td>Not fleeing</td>\n      <td>False</td>\n      <td>Guns</td>\n    </tr>\n    <tr>\n      <th>6</th>\n      <td>13</td>\n      <td>Kenneth Arnold Buck</td>\n      <td>2015-01-05</td>\n      <td>shot</td>\n      <td>gun</td>\n      <td>22.0</td>\n      <td>M</td>\n      <td>Hispanic</td>\n      <td>Chandler</td>\n      <td>AZ</td>\n      <td>False</td>\n      <td>attack</td>\n      <td>Car</td>\n      <td>False</td>\n      <td>Guns</td>\n    </tr>\n    <tr>\n      <th>7</th>\n      <td>15</td>\n      <td>Brock Nichols</td>\n      <td>2015-01-06</td>\n      <td>shot</td>\n      <td>gun</td>\n      <td>35.0</td>\n      <td>M</td>\n      <td>White</td>\n      <td>Assaria</td>\n      <td>KS</td>\n      <td>False</td>\n      <td>attack</td>\n      <td>Not fleeing</td>\n      <td>False</td>\n      <td>Guns</td>\n    </tr>\n    <tr>\n      <th>8</th>\n      <td>16</td>\n      <td>Autumn Steele</td>\n      <td>2015-01-06</td>\n      <td>shot</td>\n      <td>unarmed</td>\n      <td>34.0</td>\n      <td>F</td>\n      <td>White</td>\n      <td>Burlington</td>\n      <td>IA</td>\n      <td>False</td>\n      <td>other</td>\n      <td>Not fleeing</td>\n      <td>True</td>\n      <td>Unarmed</td>\n    </tr>\n    <tr>\n      <th>9</th>\n      <td>17</td>\n      <td>Leslie Sapp III</td>\n      <td>2015-01-06</td>\n      <td>shot</td>\n      <td>toy weapon</td>\n      <td>47.0</td>\n      <td>M</td>\n      <td>Black</td>\n      <td>Knoxville</td>\n      <td>PA</td>\n      <td>False</td>\n      <td>attack</td>\n      <td>Not fleeing</td>\n      <td>False</td>\n      <td>Other unusual objects</td>\n    </tr>\n  </tbody>\n</table>\n</div>"
     },
     "execution_count": 3,
     "metadata": {},
     "output_type": "execute_result"
    }
   ],
   "source": [
    "shoot.head(10)"
   ],
   "metadata": {
    "collapsed": false,
    "pycharm": {
     "name": "#%%\n"
    }
   }
  },
  {
   "cell_type": "code",
   "execution_count": 20,
   "outputs": [
    {
     "data": {
      "text/plain": "Los Angeles     78\nPhoenix         66\nHouston         51\nLas Vegas       41\nSan Antonio     40\nChicago         38\nColumbus        36\nAlbuquerque     32\nJacksonville    31\nSt. Louis       30\nName: city, dtype: int64"
     },
     "execution_count": 20,
     "metadata": {},
     "output_type": "execute_result"
    }
   ],
   "source": [
    "#10 первые 10 городов по стрельбе\n",
    "shoot['city'].value_counts().head(10)"
   ],
   "metadata": {
    "collapsed": false,
    "pycharm": {
     "name": "#%%\n"
    }
   }
  },
  {
   "cell_type": "markdown",
   "source": [],
   "metadata": {
    "collapsed": false
   }
  },
  {
   "cell_type": "code",
   "execution_count": 21,
   "outputs": [
    {
     "data": {
      "text/plain": "CA    701\nTX    426\nFL    324\nAZ    222\nCO    168\nGA    161\nOK    151\nNC    148\nOH    146\nWA    126\nName: state, dtype: int64"
     },
     "execution_count": 21,
     "metadata": {},
     "output_type": "execute_result"
    }
   ],
   "source": [
    "#10 штатов по стрельбе\n",
    "shoot['state'].value_counts().head(10)"
   ],
   "metadata": {
    "collapsed": false,
    "pycharm": {
     "name": "#%%\n"
    }
   }
  },
  {
   "cell_type": "code",
   "execution_count": 24,
   "outputs": [
    {
     "data": {
      "text/plain": "array(['Guns', 'Unarmed', 'Other unusual objects', 'Piercing objects',\n       'Sharp objects', 'Unknown', 'Blunt instruments', 'Multiple',\n       'Electrical devices', 'Hand tools', 'Vehicles', 'Explosives'],\n      dtype=object)"
     },
     "execution_count": 24,
     "metadata": {},
     "output_type": "execute_result"
    }
   ],
   "source": [
    "shoot.arms_category.unique()"
   ],
   "metadata": {
    "collapsed": false,
    "pycharm": {
     "name": "#%%\n"
    }
   }
  },
  {
   "cell_type": "code",
   "execution_count": 25,
   "outputs": [
    {
     "data": {
      "text/plain": "12"
     },
     "execution_count": 25,
     "metadata": {},
     "output_type": "execute_result"
    }
   ],
   "source": [
    "shoot['arms_category'].nunique()"
   ],
   "metadata": {
    "collapsed": false,
    "pycharm": {
     "name": "#%%\n"
    }
   }
  },
  {
   "cell_type": "code",
   "execution_count": 29,
   "outputs": [],
   "source": [
    "#coздаем столбуц с именами\n",
    "shoot['first_name']=shoot['name'].apply(lambda name: name.split(' ')[0])"
   ],
   "metadata": {
    "collapsed": false,
    "pycharm": {
     "name": "#%%\n"
    }
   }
  },
  {
   "cell_type": "code",
   "execution_count": 30,
   "outputs": [
    {
     "data": {
      "text/plain": "   id                name        date   manner_of_death       armed   age  \\\n0   3          Tim Elliot  2015-01-02              shot         gun  53.0   \n1   4    Lewis Lee Lembke  2015-01-02              shot         gun  47.0   \n2   5  John Paul Quintero  2015-01-03  shot and Tasered     unarmed  23.0   \n3   8     Matthew Hoffman  2015-01-04              shot  toy weapon  32.0   \n4   9   Michael Rodriguez  2015-01-04              shot    nail gun  39.0   \n\n  gender      race           city state  signs_of_mental_illness threat_level  \\\n0      M     Asian        Shelton    WA                     True       attack   \n1      M     White          Aloha    OR                    False       attack   \n2      M  Hispanic        Wichita    KS                    False        other   \n3      M     White  San Francisco    CA                     True       attack   \n4      M  Hispanic          Evans    CO                    False       attack   \n\n          flee  body_camera          arms_category first_name  \n0  Not fleeing        False                   Guns        Tim  \n1  Not fleeing        False                   Guns      Lewis  \n2  Not fleeing        False                Unarmed       John  \n3  Not fleeing        False  Other unusual objects    Matthew  \n4  Not fleeing        False       Piercing objects    Michael  ",
      "text/html": "<div>\n<style scoped>\n    .dataframe tbody tr th:only-of-type {\n        vertical-align: middle;\n    }\n\n    .dataframe tbody tr th {\n        vertical-align: top;\n    }\n\n    .dataframe thead th {\n        text-align: right;\n    }\n</style>\n<table border=\"1\" class=\"dataframe\">\n  <thead>\n    <tr style=\"text-align: right;\">\n      <th></th>\n      <th>id</th>\n      <th>name</th>\n      <th>date</th>\n      <th>manner_of_death</th>\n      <th>armed</th>\n      <th>age</th>\n      <th>gender</th>\n      <th>race</th>\n      <th>city</th>\n      <th>state</th>\n      <th>signs_of_mental_illness</th>\n      <th>threat_level</th>\n      <th>flee</th>\n      <th>body_camera</th>\n      <th>arms_category</th>\n      <th>first_name</th>\n    </tr>\n  </thead>\n  <tbody>\n    <tr>\n      <th>0</th>\n      <td>3</td>\n      <td>Tim Elliot</td>\n      <td>2015-01-02</td>\n      <td>shot</td>\n      <td>gun</td>\n      <td>53.0</td>\n      <td>M</td>\n      <td>Asian</td>\n      <td>Shelton</td>\n      <td>WA</td>\n      <td>True</td>\n      <td>attack</td>\n      <td>Not fleeing</td>\n      <td>False</td>\n      <td>Guns</td>\n      <td>Tim</td>\n    </tr>\n    <tr>\n      <th>1</th>\n      <td>4</td>\n      <td>Lewis Lee Lembke</td>\n      <td>2015-01-02</td>\n      <td>shot</td>\n      <td>gun</td>\n      <td>47.0</td>\n      <td>M</td>\n      <td>White</td>\n      <td>Aloha</td>\n      <td>OR</td>\n      <td>False</td>\n      <td>attack</td>\n      <td>Not fleeing</td>\n      <td>False</td>\n      <td>Guns</td>\n      <td>Lewis</td>\n    </tr>\n    <tr>\n      <th>2</th>\n      <td>5</td>\n      <td>John Paul Quintero</td>\n      <td>2015-01-03</td>\n      <td>shot and Tasered</td>\n      <td>unarmed</td>\n      <td>23.0</td>\n      <td>M</td>\n      <td>Hispanic</td>\n      <td>Wichita</td>\n      <td>KS</td>\n      <td>False</td>\n      <td>other</td>\n      <td>Not fleeing</td>\n      <td>False</td>\n      <td>Unarmed</td>\n      <td>John</td>\n    </tr>\n    <tr>\n      <th>3</th>\n      <td>8</td>\n      <td>Matthew Hoffman</td>\n      <td>2015-01-04</td>\n      <td>shot</td>\n      <td>toy weapon</td>\n      <td>32.0</td>\n      <td>M</td>\n      <td>White</td>\n      <td>San Francisco</td>\n      <td>CA</td>\n      <td>True</td>\n      <td>attack</td>\n      <td>Not fleeing</td>\n      <td>False</td>\n      <td>Other unusual objects</td>\n      <td>Matthew</td>\n    </tr>\n    <tr>\n      <th>4</th>\n      <td>9</td>\n      <td>Michael Rodriguez</td>\n      <td>2015-01-04</td>\n      <td>shot</td>\n      <td>nail gun</td>\n      <td>39.0</td>\n      <td>M</td>\n      <td>Hispanic</td>\n      <td>Evans</td>\n      <td>CO</td>\n      <td>False</td>\n      <td>attack</td>\n      <td>Not fleeing</td>\n      <td>False</td>\n      <td>Piercing objects</td>\n      <td>Michael</td>\n    </tr>\n  </tbody>\n</table>\n</div>"
     },
     "execution_count": 30,
     "metadata": {},
     "output_type": "execute_result"
    }
   ],
   "source": [
    "shoot.head()"
   ],
   "metadata": {
    "collapsed": false,
    "pycharm": {
     "name": "#%%\n"
    }
   }
  },
  {
   "cell_type": "code",
   "execution_count": 31,
   "outputs": [
    {
     "data": {
      "text/plain": "Michael        142\nDavid           84\nRobert          79\nJames           79\nChristopher     71\n              ... \nTalif            1\nCleotha          1\nAbdul            1\nIrecas           1\nCaine            1\nName: first_name, Length: 1510, dtype: int64"
     },
     "execution_count": 31,
     "metadata": {},
     "output_type": "execute_result"
    }
   ],
   "source": [
    "shoot['first_name'].value_counts()"
   ],
   "metadata": {
    "collapsed": false,
    "pycharm": {
     "name": "#%%\n"
    }
   }
  },
  {
   "cell_type": "markdown",
   "source": [],
   "metadata": {
    "collapsed": false
   }
  },
  {
   "cell_type": "code",
   "execution_count": 35,
   "outputs": [
    {
     "data": {
      "text/plain": "<AxesSubplot:xlabel='race', ylabel='count'>"
     },
     "execution_count": 35,
     "metadata": {},
     "output_type": "execute_result"
    },
    {
     "data": {
      "text/plain": "<Figure size 432x288 with 1 Axes>",
      "image/png": "[encoded data removed]"
     },
     "metadata": {
      "needs_background": "light"
     },
     "output_type": "display_data"
    }
   ],
   "source": [
    "sns.countplot(x='race',data=shoot)"
   ],
   "metadata": {
    "collapsed": false,
    "pycharm": {
     "name": "#%%\n"
    }
   }
  },
  {
   "cell_type": "code",
   "execution_count": 38,
   "outputs": [
    {
     "data": {
      "text/plain": "str"
     },
     "execution_count": 38,
     "metadata": {},
     "output_type": "execute_result"
    }
   ],
   "source": [
    "type(shoot['date'].iloc[0])"
   ],
   "metadata": {
    "collapsed": false,
    "pycharm": {
     "name": "#%%\n"
    }
   }
  },
  {
   "cell_type": "code",
   "execution_count": 39,
   "outputs": [],
   "source": [
    "#конвертация из строк в DateTime объект\n",
    "shoot['date']=pd.to_datetime(shoot['date'])"
   ],
   "metadata": {
    "collapsed": false,
    "pycharm": {
     "name": "#%%\n"
    }
   }
  },
  {
   "cell_type": "code",
   "execution_count": 40,
   "outputs": [],
   "source": [
    "#на основе date столбца создаем 3 год месяц день\n",
    "shoot['year']=shoot['date'].apply(lambda time:time.year)\n",
    "shoot['month']=shoot['date'].apply(lambda time:time.month)\n",
    "shoot['day']=shoot['date'].apply(lambda time:time.day)"
   ],
   "metadata": {
    "collapsed": false,
    "pycharm": {
     "name": "#%%\n"
    }
   }
  },
  {
   "cell_type": "code",
   "execution_count": 41,
   "outputs": [
    {
     "data": {
      "text/plain": "   id                 name       date   manner_of_death       armed   age  \\\n0   3           Tim Elliot 2015-01-02              shot         gun  53.0   \n1   4     Lewis Lee Lembke 2015-01-02              shot         gun  47.0   \n2   5   John Paul Quintero 2015-01-03  shot and Tasered     unarmed  23.0   \n3   8      Matthew Hoffman 2015-01-04              shot  toy weapon  32.0   \n4   9    Michael Rodriguez 2015-01-04              shot    nail gun  39.0   \n5  11    Kenneth Joe Brown 2015-01-04              shot         gun  18.0   \n6  13  Kenneth Arnold Buck 2015-01-05              shot         gun  22.0   \n7  15        Brock Nichols 2015-01-06              shot         gun  35.0   \n8  16        Autumn Steele 2015-01-06              shot     unarmed  34.0   \n9  17      Leslie Sapp III 2015-01-06              shot  toy weapon  47.0   \n\n  gender      race           city state  signs_of_mental_illness threat_level  \\\n0      M     Asian        Shelton    WA                     True       attack   \n1      M     White          Aloha    OR                    False       attack   \n2      M  Hispanic        Wichita    KS                    False        other   \n3      M     White  San Francisco    CA                     True       attack   \n4      M  Hispanic          Evans    CO                    False       attack   \n5      M     White        Guthrie    OK                    False       attack   \n6      M  Hispanic       Chandler    AZ                    False       attack   \n7      M     White        Assaria    KS                    False       attack   \n8      F     White     Burlington    IA                    False        other   \n9      M     Black      Knoxville    PA                    False       attack   \n\n          flee  body_camera          arms_category first_name  year  month  \\\n0  Not fleeing        False                   Guns        Tim  2015      1   \n1  Not fleeing        False                   Guns      Lewis  2015      1   \n2  Not fleeing        False                Unarmed       John  2015      1   \n3  Not fleeing        False  Other unusual objects    Matthew  2015      1   \n4  Not fleeing        False       Piercing objects    Michael  2015      1   \n5  Not fleeing        False                   Guns    Kenneth  2015      1   \n6          Car        False                   Guns    Kenneth  2015      1   \n7  Not fleeing        False                   Guns      Brock  2015      1   \n8  Not fleeing         True                Unarmed     Autumn  2015      1   \n9  Not fleeing        False  Other unusual objects     Leslie  2015      1   \n\n   day  \n0    2  \n1    2  \n2    3  \n3    4  \n4    4  \n5    4  \n6    5  \n7    6  \n8    6  \n9    6  ",
      "text/html": "<div>\n<style scoped>\n    .dataframe tbody tr th:only-of-type {\n        vertical-align: middle;\n    }\n\n    .dataframe tbody tr th {\n        vertical-align: top;\n    }\n\n    .dataframe thead th {\n        text-align: right;\n    }\n</style>\n<table border=\"1\" class=\"dataframe\">\n  <thead>\n    <tr style=\"text-align: right;\">\n      <th></th>\n      <th>id</th>\n      <th>name</th>\n      <th>date</th>\n      <th>manner_of_death</th>\n      <th>armed</th>\n      <th>age</th>\n      <th>gender</th>\n      <th>race</th>\n      <th>city</th>\n      <th>state</th>\n      <th>signs_of_mental_illness</th>\n      <th>threat_level</th>\n      <th>flee</th>\n      <th>body_camera</th>\n      <th>arms_category</th>\n      <th>first_name</th>\n      <th>year</th>\n      <th>month</th>\n      <th>day</th>\n    </tr>\n  </thead>\n  <tbody>\n    <tr>\n      <th>0</th>\n      <td>3</td>\n      <td>Tim Elliot</td>\n      <td>2015-01-02</td>\n      <td>shot</td>\n      <td>gun</td>\n      <td>53.0</td>\n      <td>M</td>\n      <td>Asian</td>\n      <td>Shelton</td>\n      <td>WA</td>\n      <td>True</td>\n      <td>attack</td>\n      <td>Not fleeing</td>\n      <td>False</td>\n      <td>Guns</td>\n      <td>Tim</td>\n      <td>2015</td>\n      <td>1</td>\n      <td>2</td>\n    </tr>\n    <tr>\n      <th>1</th>\n      <td>4</td>\n      <td>Lewis Lee Lembke</td>\n      <td>2015-01-02</td>\n      <td>shot</td>\n      <td>gun</td>\n      <td>47.0</td>\n      <td>M</td>\n      <td>White</td>\n      <td>Aloha</td>\n      <td>OR</td>\n      <td>False</td>\n      <td>attack</td>\n      <td>Not fleeing</td>\n      <td>False</td>\n      <td>Guns</td>\n      <td>Lewis</td>\n      <td>2015</td>\n      <td>1</td>\n      <td>2</td>\n    </tr>\n    <tr>\n      <th>2</th>\n      <td>5</td>\n      <td>John Paul Quintero</td>\n      <td>2015-01-03</td>\n      <td>shot and Tasered</td>\n      <td>unarmed</td>\n      <td>23.0</td>\n      <td>M</td>\n      <td>Hispanic</td>\n      <td>Wichita</td>\n      <td>KS</td>\n      <td>False</td>\n      <td>other</td>\n      <td>Not fleeing</td>\n      <td>False</td>\n      <td>Unarmed</td>\n      <td>John</td>\n      <td>2015</td>\n      <td>1</td>\n      <td>3</td>\n    </tr>\n    <tr>\n      <th>3</th>\n      <td>8</td>\n      <td>Matthew Hoffman</td>\n      <td>2015-01-04</td>\n      <td>shot</td>\n      <td>toy weapon</td>\n      <td>32.0</td>\n      <td>M</td>\n      <td>White</td>\n      <td>San Francisco</td>\n      <td>CA</td>\n      <td>True</td>\n      <td>attack</td>\n      <td>Not fleeing</td>\n      <td>False</td>\n      <td>Other unusual objects</td>\n      <td>Matthew</td>\n      <td>2015</td>\n      <td>1</td>\n      <td>4</td>\n    </tr>\n    <tr>\n      <th>4</th>\n      <td>9</td>\n      <td>Michael Rodriguez</td>\n      <td>2015-01-04</td>\n      <td>shot</td>\n      <td>nail gun</td>\n      <td>39.0</td>\n      <td>M</td>\n      <td>Hispanic</td>\n      <td>Evans</td>\n      <td>CO</td>\n      <td>False</td>\n      <td>attack</td>\n      <td>Not fleeing</td>\n      <td>False</td>\n      <td>Piercing objects</td>\n      <td>Michael</td>\n      <td>2015</td>\n      <td>1</td>\n      <td>4</td>\n    </tr>\n    <tr>\n      <th>5</th>\n      <td>11</td>\n      <td>Kenneth Joe Brown</td>\n      <td>2015-01-04</td>\n      <td>shot</td>\n      <td>gun</td>\n      <td>18.0</td>\n      <td>M</td>\n      <td>White</td>\n      <td>Guthrie</td>\n      <td>OK</td>\n      <td>False</td>\n      <td>attack</td>\n      <td>Not fleeing</td>\n      <td>False</td>\n      <td>Guns</td>\n      <td>Kenneth</td>\n      <td>2015</td>\n      <td>1</td>\n      <td>4</td>\n    </tr>\n    <tr>\n      <th>6</th>\n      <td>13</td>\n      <td>Kenneth Arnold Buck</td>\n      <td>2015-01-05</td>\n      <td>shot</td>\n      <td>gun</td>\n      <td>22.0</td>\n      <td>M</td>\n      <td>Hispanic</td>\n      <td>Chandler</td>\n      <td>AZ</td>\n      <td>False</td>\n      <td>attack</td>\n      <td>Car</td>\n      <td>False</td>\n      <td>Guns</td>\n      <td>Kenneth</td>\n      <td>2015</td>\n      <td>1</td>\n      <td>5</td>\n    </tr>\n    <tr>\n      <th>7</th>\n      <td>15</td>\n      <td>Brock Nichols</td>\n      <td>2015-01-06</td>\n      <td>shot</td>\n      <td>gun</td>\n      <td>35.0</td>\n      <td>M</td>\n      <td>White</td>\n      <td>Assaria</td>\n      <td>KS</td>\n      <td>False</td>\n      <td>attack</td>\n      <td>Not fleeing</td>\n      <td>False</td>\n      <td>Guns</td>\n      <td>Brock</td>\n      <td>2015</td>\n      <td>1</td>\n      <td>6</td>\n    </tr>\n    <tr>\n      <th>8</th>\n      <td>16</td>\n      <td>Autumn Steele</td>\n      <td>2015-01-06</td>\n      <td>shot</td>\n      <td>unarmed</td>\n      <td>34.0</td>\n      <td>F</td>\n      <td>White</td>\n      <td>Burlington</td>\n      <td>IA</td>\n      <td>False</td>\n      <td>other</td>\n      <td>Not fleeing</td>\n      <td>True</td>\n      <td>Unarmed</td>\n      <td>Autumn</td>\n      <td>2015</td>\n      <td>1</td>\n      <td>6</td>\n    </tr>\n    <tr>\n      <th>9</th>\n      <td>17</td>\n      <td>Leslie Sapp III</td>\n      <td>2015-01-06</td>\n      <td>shot</td>\n      <td>toy weapon</td>\n      <td>47.0</td>\n      <td>M</td>\n      <td>Black</td>\n      <td>Knoxville</td>\n      <td>PA</td>\n      <td>False</td>\n      <td>attack</td>\n      <td>Not fleeing</td>\n      <td>False</td>\n      <td>Other unusual objects</td>\n      <td>Leslie</td>\n      <td>2015</td>\n      <td>1</td>\n      <td>6</td>\n    </tr>\n  </tbody>\n</table>\n</div>"
     },
     "execution_count": 41,
     "metadata": {},
     "output_type": "execute_result"
    }
   ],
   "source": [
    "shoot.head(10)"
   ],
   "metadata": {
    "collapsed": false,
    "pycharm": {
     "name": "#%%\n"
    }
   }
  },
  {
   "cell_type": "code",
   "execution_count": 43,
   "outputs": [
    {
     "data": {
      "text/plain": "<AxesSubplot:xlabel='month', ylabel='count'>"
     },
     "execution_count": 43,
     "metadata": {},
     "output_type": "execute_result"
    },
    {
     "data": {
      "text/plain": "<Figure size 432x288 with 1 Axes>",
      "image/png": "[encoded data removed]"
     },
     "metadata": {
      "needs_background": "light"
     },
     "output_type": "display_data"
    }
   ],
   "source": [
    "#hueзакрашивает параметры в разные цвета\n",
    "sns.countplot(x='month',hue='race',data=shoot,palette='rocket')"
   ],
   "metadata": {
    "collapsed": false,
    "pycharm": {
     "name": "#%%\n"
    }
   }
  },
  {
   "cell_type": "code",
   "execution_count": 44,
   "outputs": [
    {
     "data": {
      "text/plain": "<matplotlib.legend.Legend at 0x7fb98e553190>"
     },
     "execution_count": 44,
     "metadata": {},
     "output_type": "execute_result"
    },
    {
     "data": {
      "text/plain": "<Figure size 432x288 with 1 Axes>",
      "image/png": "[encoded data removed]"
     },
     "metadata": {
      "needs_background": "light"
     },
     "output_type": "display_data"
    }
   ],
   "source": [
    "#перемещение легенды\n",
    "sns.countplot(x='month',hue='race',data=shoot,palette='rocket')\n",
    "plt.legend(bbox_to_anchor=(1.05,1),loc=2,borderaxespad=0)"
   ],
   "metadata": {
    "collapsed": false,
    "pycharm": {
     "name": "#%%\n"
    }
   }
  },
  {
   "cell_type": "code",
   "execution_count": 45,
   "outputs": [
    {
     "data": {
      "text/plain": "<matplotlib.legend.Legend at 0x7fb98e340ca0>"
     },
     "execution_count": 45,
     "metadata": {},
     "output_type": "execute_result"
    },
    {
     "data": {
      "text/plain": "<Figure size 432x288 with 1 Axes>",
      "image/png": "[encoded data removed]"
     },
     "metadata": {
      "needs_background": "light"
     },
     "output_type": "display_data"
    }
   ],
   "source": [
    "sns.countplot(x='year',hue='race',data=shoot,palette='rocket')\n",
    "plt.legend(bbox_to_anchor=(1.05,1),loc=2,borderaxespad=0)"
   ],
   "metadata": {
    "collapsed": false,
    "pycharm": {
     "name": "#%%\n"
    }
   }
  },
  {
   "cell_type": "code",
   "execution_count": 46,
   "outputs": [
    {
     "data": {
      "text/plain": "       id  name  date  manner_of_death  armed  age  gender  race  city  state  \\\nyear                                                                            \n2015  965   965   965              965    965  965     965   965   965    965   \n2016  904   904   904              904    904  904     904   904   904    904   \n2017  906   906   906              906    906  906     906   906   906    906   \n2018  888   888   888              888    888  888     888   888   888    888   \n2019  858   858   858              858    858  858     858   858   858    858   \n\n      signs_of_mental_illness  threat_level  flee  body_camera  arms_category  \\\nyear                                                                            \n2015                      965           965   965          965            965   \n2016                      904           904   904          904            904   \n2017                      906           906   906          906            906   \n2018                      888           888   888          888            888   \n2019                      858           858   858          858            858   \n\n      first_name  month  day  \nyear                          \n2015         965    965  965  \n2016         904    904  904  \n2017         906    906  906  \n2018         888    888  888  \n2019         858    858  858  ",
      "text/html": "<div>\n<style scoped>\n    .dataframe tbody tr th:only-of-type {\n        vertical-align: middle;\n    }\n\n    .dataframe tbody tr th {\n        vertical-align: top;\n    }\n\n    .dataframe thead th {\n        text-align: right;\n    }\n</style>\n<table border=\"1\" class=\"dataframe\">\n  <thead>\n    <tr style=\"text-align: right;\">\n      <th></th>\n      <th>id</th>\n      <th>name</th>\n      <th>date</th>\n      <th>manner_of_death</th>\n      <th>armed</th>\n      <th>age</th>\n      <th>gender</th>\n      <th>race</th>\n      <th>city</th>\n      <th>state</th>\n      <th>signs_of_mental_illness</th>\n      <th>threat_level</th>\n      <th>flee</th>\n      <th>body_camera</th>\n      <th>arms_category</th>\n      <th>first_name</th>\n      <th>month</th>\n      <th>day</th>\n    </tr>\n    <tr>\n      <th>year</th>\n      <th></th>\n      <th></th>\n      <th></th>\n      <th></th>\n      <th></th>\n      <th></th>\n      <th></th>\n      <th></th>\n      <th></th>\n      <th></th>\n      <th></th>\n      <th></th>\n      <th></th>\n      <th></th>\n      <th></th>\n      <th></th>\n      <th></th>\n      <th></th>\n    </tr>\n  </thead>\n  <tbody>\n    <tr>\n      <th>2015</th>\n      <td>965</td>\n      <td>965</td>\n      <td>965</td>\n      <td>965</td>\n      <td>965</td>\n      <td>965</td>\n      <td>965</td>\n      <td>965</td>\n      <td>965</td>\n      <td>965</td>\n      <td>965</td>\n      <td>965</td>\n      <td>965</td>\n      <td>965</td>\n      <td>965</td>\n      <td>965</td>\n      <td>965</td>\n      <td>965</td>\n    </tr>\n    <tr>\n      <th>2016</th>\n      <td>904</td>\n      <td>904</td>\n      <td>904</td>\n      <td>904</td>\n      <td>904</td>\n      <td>904</td>\n      <td>904</td>\n      <td>904</td>\n      <td>904</td>\n      <td>904</td>\n      <td>904</td>\n      <td>904</td>\n      <td>904</td>\n      <td>904</td>\n      <td>904</td>\n      <td>904</td>\n      <td>904</td>\n      <td>904</td>\n    </tr>\n    <tr>\n      <th>2017</th>\n      <td>906</td>\n      <td>906</td>\n      <td>906</td>\n      <td>906</td>\n      <td>906</td>\n      <td>906</td>\n      <td>906</td>\n      <td>906</td>\n      <td>906</td>\n      <td>906</td>\n      <td>906</td>\n      <td>906</td>\n      <td>906</td>\n      <td>906</td>\n      <td>906</td>\n      <td>906</td>\n      <td>906</td>\n      <td>906</td>\n    </tr>\n    <tr>\n      <th>2018</th>\n      <td>888</td>\n      <td>888</td>\n      <td>888</td>\n      <td>888</td>\n      <td>888</td>\n      <td>888</td>\n      <td>888</td>\n      <td>888</td>\n      <td>888</td>\n      <td>888</td>\n      <td>888</td>\n      <td>888</td>\n      <td>888</td>\n      <td>888</td>\n      <td>888</td>\n      <td>888</td>\n      <td>888</td>\n      <td>888</td>\n    </tr>\n    <tr>\n      <th>2019</th>\n      <td>858</td>\n      <td>858</td>\n      <td>858</td>\n      <td>858</td>\n      <td>858</td>\n      <td>858</td>\n      <td>858</td>\n      <td>858</td>\n      <td>858</td>\n      <td>858</td>\n      <td>858</td>\n      <td>858</td>\n      <td>858</td>\n      <td>858</td>\n      <td>858</td>\n      <td>858</td>\n      <td>858</td>\n      <td>858</td>\n    </tr>\n  </tbody>\n</table>\n</div>"
     },
     "execution_count": 46,
     "metadata": {},
     "output_type": "execute_result"
    }
   ],
   "source": [
    "by_year = shoot.groupby('year').count()\n",
    "by_year.head()"
   ],
   "metadata": {
    "collapsed": false,
    "pycharm": {
     "name": "#%%\n"
    }
   }
  },
  {
   "cell_type": "code",
   "execution_count": 47,
   "outputs": [
    {
     "data": {
      "text/plain": "<AxesSubplot:xlabel='year'>"
     },
     "execution_count": 47,
     "metadata": {},
     "output_type": "execute_result"
    },
    {
     "data": {
      "text/plain": "<Figure size 432x288 with 1 Axes>",
      "image/png": "[encoded data removed]"
     },
     "metadata": {
      "needs_background": "light"
     },
     "output_type": "display_data"
    }
   ],
   "source": [
    "by_year['age'].plot()"
   ],
   "metadata": {
    "collapsed": false,
    "pycharm": {
     "name": "#%%\n"
    }
   }
  },
  {
   "cell_type": "code",
   "execution_count": 49,
   "outputs": [
    {
     "data": {
      "text/plain": "<seaborn.axisgrid.FacetGrid at 0x7fb98e1e8b80>"
     },
     "execution_count": 49,
     "metadata": {},
     "output_type": "execute_result"
    },
    {
     "data": {
      "text/plain": "<Figure size 360x360 with 1 Axes>",
      "image/png": "[encoded data removed]"
     },
     "metadata": {
      "needs_background": "light"
     },
     "output_type": "display_data"
    }
   ],
   "source": [
    "sns.lmplot(x ='year',y='city',data=by_year.reset_index())"
   ],
   "metadata": {
    "collapsed": false,
    "pycharm": {
     "name": "#%%\n"
    }
   }
  },
  {
   "cell_type": "code",
   "execution_count": null,
   "outputs": [],
   "source": [],
   "metadata": {
    "collapsed": false,
    "pycharm": {
     "name": "#%%\n"
    }
   }
  }
 ],
 "metadata": {
  "kernelspec": {
   "display_name": "Python 3",
   "language": "python",
   "name": "python3"
  },
  "language_info": {
   "codemirror_mode": {
    "name": "ipython",
    "version": 2
   },
   "file_extension": ".py",
   "mimetype": "text/x-python",
   "name": "python",
   "nbconvert_exporter": "python",
   "pygments_lexer": "ipython2",
   "version": "2.7.6"
  }
 },
 "nbformat": 4,
 "nbformat_minor": 0
}