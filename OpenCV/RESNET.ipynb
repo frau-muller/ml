{
 "cells": [
  {
   "cell_type": "code",
   "execution_count": null,
   "metadata": {
    "collapsed": true
   },
   "outputs": [],
   "source": [
    "import numpy as np\n",
    "import keras as k\n",
    "from sklearn.metrics import classification_report\n",
    "import cv2"
   ]
  },
  {
   "cell_type": "markdown",
   "source": [
    "Используйте обученную нейросеть ResNet-50 без последнего слоя для классификации цифр.\n",
    "\n",
    "Вычислите или подберите размеры изображения и цветность. Обучите последние слои нейросети на измененном (если требуется) наборе MNIST и проверьте точность.\n",
    "Вопросы к этому заданию\n",
    "\n",
    "Какой входной размер изображений достаточен для использования ResNet-50 ? Например, 8x8"
   ],
   "metadata": {
    "collapsed": false
   }
  },
  {
   "cell_type": "markdown",
   "source": [
    "зАГРУЗКА набора Mnist"
   ],
   "metadata": {
    "collapsed": false
   }
  },
  {
   "cell_type": "code",
   "execution_count": null,
   "outputs": [],
   "source": [
    "(X_train, y_train),(X_test,y_test) = mnist.load_data()"
   ],
   "metadata": {
    "collapsed": false,
    "pycharm": {
     "name": "#%%\n"
    }
   }
  },
  {
   "cell_type": "markdown",
   "source": [
    "Конвертация изображений\n",
    "Серые 28х28-полноцветные"
   ],
   "metadata": {
    "collapsed": false
   }
  },
  {
   "cell_type": "code",
   "execution_count": null,
   "outputs": [],
   "source": [
    "def convert_data (x):\n",
    "    data_rgb = []\n",
    "    for i in range(len(x)):\n",
    "        img = cv2.resize(x[i],(32,32), interpolation = cv2.INTER_AREA)\n",
    "        rgb = np.asaray(np.dstack((img,img,img)),dtype = np.uint8)\n",
    "        "
   ],
   "metadata": {
    "collapsed": false,
    "pycharm": {
     "name": "#%%\n"
    }
   }
  }
 ],
 "metadata": {
  "kernelspec": {
   "display_name": "Python 3",
   "language": "python",
   "name": "python3"
  },
  "language_info": {
   "codemirror_mode": {
    "name": "ipython",
    "version": 2
   },
   "file_extension": ".py",
   "mimetype": "text/x-python",
   "name": "python",
   "nbconvert_exporter": "python",
   "pygments_lexer": "ipython2",
   "version": "2.7.6"
  }
 },
 "nbformat": 4,
 "nbformat_minor": 0
}