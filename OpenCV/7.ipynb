{
 "cells": [
  {
   "cell_type": "code",
   "execution_count": null,
   "metadata": {
    "collapsed": true
   },
   "outputs": [],
   "source": [
    "import cv2\n",
    "import numpy as np\n",
    "import time\n",
    "import PoseModule as pm\n",
    "cap = cv2.VideoCapture(\"AiTrainer/curls.mp4\")\n",
    "detector = pm.poseDetector()\n",
    "count = 0\n",
    "dir = 0\n",
    "pTime = 0\n",
    "while True:\n",
    "    success, img = cap.read()\n",
    "    img = cv2.resize(img, (1280, 720))\n",
    "    # img = cv2.imread(\"AiTrainer/test.jpg\")\n",
    "    img = detector.findPose(img, False)\n",
    "    lmList = detector.findPosition(img, False)\n",
    "    # print(lmList)\n",
    "    if len(lmList) != 0:\n",
    "        # Right Arm\n",
    "        angle = detector.findAngle(img, 12, 14, 16)\n",
    "        # # Left Arm\n",
    "        #angle = detector.findAngle(img, 11, 13, 15,False)\n",
    "        per = np.interp(angle, (210, 310), (0, 100))\n",
    "        bar = np.interp(angle, (220, 310), (650, 100))\n",
    "        # print(angle, per)\n",
    "        # Check for the dumbbell curls\n",
    "        color = (255, 0, 255)\n",
    "        if per == 100:\n",
    "            color = (0, 255, 0)\n",
    "            if dir == 0:\n",
    "                count += 0.5\n",
    "                dir = 1\n",
    "        if per == 0:\n",
    "            color = (0, 255, 0)\n",
    "            if dir == 1:\n",
    "                count += 0.5\n",
    "                dir = 0\n",
    "        print(count)\n",
    "        # Draw Bar\n",
    "        cv2.rectangle(img, (1100, 100), (1175, 650), color, 3)\n",
    "        cv2.rectangle(img, (1100, int(bar)), (1175, 650), color, cv2.FILLED)\n",
    "        cv2.putText(img, f'{int(per)} %', (1100, 75), cv2.FONT_HERSHEY_PLAIN, 4,\n",
    "                    color, 4)\n",
    "        # Draw Curl Count\n",
    "        cv2.rectangle(img, (0, 450), (250, 720), (0, 255, 0), cv2.FILLED)\n",
    "        cv2.putText(img, str(int(count)), (45, 670), cv2.FONT_HERSHEY_PLAIN, 15,\n",
    "                    (255, 0, 0), 25)\n",
    "    cTime = time.time()\n",
    "    fps = 1 / (cTime - pTime)\n",
    "    pTime = cTime\n",
    "    cv2.putText(img, str(int(fps)), (50, 100), cv2.FONT_HERSHEY_PLAIN, 5,\n",
    "                (255, 0, 0), 5)\n",
    "    cv2.imshow(\"Image\", img)\n",
    "    cv2.waitKey(1)"
   ]
  }
 ],
 "metadata": {
  "kernelspec": {
   "display_name": "Python 3",
   "language": "python",
   "name": "python3"
  },
  "language_info": {
   "codemirror_mode": {
    "name": "ipython",
    "version": 2
   },
   "file_extension": ".py",
   "mimetype": "text/x-python",
   "name": "python",
   "nbconvert_exporter": "python",
   "pygments_lexer": "ipython2",
   "version": "2.7.6"
  }
 },
 "nbformat": 4,
 "nbformat_minor": 0
}