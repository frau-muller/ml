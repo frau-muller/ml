{
 "cells": [
  {
   "cell_type": "code",
   "execution_count": 3,
   "metadata": {
    "collapsed": true
   },
   "outputs": [],
   "source": [
    "%matplotlib inline\n",
    "import numpy as np\n",
    "import pandas as pd\n",
    "from sklearn.model_selection import train_test_split\n",
    "from sklearn.linear_model import LinearRegression"
   ]
  },
  {
   "cell_type": "code",
   "execution_count": null,
   "outputs": [],
   "source": [
    "buildings = pd.read_csv(\"http://video.ittensive.com/machine-learning/ashrae/building_metadata.csv.gz\")\n",
    "weather = pd.read_csv(\"http://video.ittensive.com/machine-learning/ashrae/weather_train.csv.gz\")\n",
    "energy_0 = pd.read_csv(\"http://video.ittensive.com/machine-learning/ashrae/train.0.0.csv.gz\")\n",
    "print (energy_0.info())"
   ],
   "metadata": {
    "collapsed": false,
    "pycharm": {
     "name": "#%%\n",
     "is_executing": true
    }
   }
  },
  {
   "cell_type": "markdown",
   "source": [
    "Объединение данных и фильтрация"
   ],
   "metadata": {
    "collapsed": false
   }
  },
  {
   "cell_type": "code",
   "execution_count": null,
   "outputs": [],
   "source": [
    "energy_0 = pd.merge(left=energy_0, right=buildings, how=\"left\",\n",
    "                   left_on=\"building_id\", right_on=\"building_id\")\n",
    "energy_0.set_index([\"timestamp\", \"site_id\"], inplace=True)\n",
    "weather.set_index([\"timestamp\", \"site_id\"], inplace=True)\n",
    "energy_0 = pd.merge(left=energy_0, right=weather, how=\"left\",\n",
    "                   left_index=True, right_index=True)\n",
    "energy_0.reset_index(inplace=True)\n",
    "energy_0 = energy_0[energy_0[\"meter_reading\"] > 0]\n",
    "energy_0[\"timestamp\"] = pd.to_datetime(energy_0[\"timestamp\"])\n",
    "energy_0[\"hour\"] = energy_0[\"timestamp\"].dt.hour\n",
    "print (energy_0.head())"
   ],
   "metadata": {
    "collapsed": false,
    "pycharm": {
     "name": "#%%\n",
     "is_executing": true
    }
   }
  },
  {
   "cell_type": "markdown",
   "source": [
    "Добавление часа в данные"
   ],
   "metadata": {
    "collapsed": false
   }
  },
  {
   "cell_type": "code",
   "execution_count": null,
   "outputs": [],
   "source": [
    "energy_0[\"timestamp\"] = pd.to_datetime(energy_0[\"timestamp\"])\n",
    "energy_0[\"hour\"] = energy_0[\"timestamp\"].dt.hour"
   ],
   "metadata": {
    "collapsed": false,
    "pycharm": {
     "name": "#%%\n",
     "is_executing": true
    }
   }
  },
  {
   "cell_type": "markdown",
   "source": [
    "Разделение данных на обучение и проверку"
   ],
   "metadata": {
    "collapsed": false
   }
  },
  {
   "cell_type": "code",
   "execution_count": null,
   "outputs": [],
   "source": [
    "energy_0_train, energy_0_test = train_test_split(energy_0, test_size=0.2)\n",
    "print (energy_0_train.head())"
   ],
   "metadata": {
    "collapsed": false,
    "pycharm": {
     "name": "#%%\n",
     "is_executing": true
    }
   }
  },
  {
   "cell_type": "markdown",
   "source": [
    "Модель линейной регрессии и среднее¶\n",
    "\n",
    "meter_reading = A * air_temperature + B * dew_temperature + C\n",
    "\n",
    "Дополнительно вычислим среднее по часам, чтобы сравнить линейную регрессию с более простой моделью"
   ],
   "metadata": {
    "collapsed": false
   }
  },
  {
   "cell_type": "code",
   "execution_count": null,
   "outputs": [],
   "source": [
    "energy_0_train_averages = energy_0_train.groupby(\"hour\").mean()[\"meter_reading\"]\n",
    "\n",
    "energy_0_train_lr = pd.DataFrame(energy_0_train,\n",
    "    columns=[\"meter_reading\", \"air_temperature\", \"dew_temperature\"])\n",
    "y = energy_0_train_lr[\"meter_reading\"]\n",
    "x = energy_0_train_lr.drop(labels=[\"meter_reading\"], axis=1)\n",
    "model = LinearRegression().fit(x, y)\n",
    "print (model.coef_, model.intercept_)"
   ],
   "metadata": {
    "collapsed": false,
    "pycharm": {
     "name": "#%%\n",
     "is_executing": true
    }
   }
  },
  {
   "cell_type": "code",
   "execution_count": null,
   "outputs": [],
   "source": [],
   "metadata": {
    "collapsed": false,
    "pycharm": {
     "name": "#%%\n",
     "is_executing": true
    }
   }
  },
  {
   "cell_type": "code",
   "execution_count": null,
   "outputs": [],
   "source": [
    "def calculate_model (x):\n",
    "    meter_reading_log = np.log(x.meter_reading + 1)\n",
    "    meter_reading_mean = np.log(energy_0_train_averages[x.hour] + 1)\n",
    "    meter_reading_lr = np.log(1 + x.air_temperature * model.coef_[0] +\n",
    "                                  x.dew_temperature * model.coef_[1] +\n",
    "                                  model.intercept_)\n",
    "    x[\"meter_reading_lr_q\"] = (meter_reading_log - meter_reading_lr)**2\n",
    "    x[\"meter_reading_mean_q\"] = (meter_reading_log - meter_reading_mean)**2\n",
    "    return x\n",
    "\n",
    "energy_0_test = energy_0_test.apply(calculate_model,\n",
    "                                    axis=1, result_type=\"expand\")\n",
    "energy_0_test_lr_rmsle = np.sqrt(energy_0_test[\"meter_reading_lr_q\"].sum() / len(energy_0_test))\n",
    "energy_0_test_mean_rmsle = np.sqrt(energy_0_test[\"meter_reading_mean_q\"].sum() / len(energy_0_test))\n",
    "print (\"Качество среднего:\", energy_0_test_mean_rmsle)\n",
    "print (\"Качество линейной регрессии:\", energy_0_test_lr_rmsle)"
   ],
   "metadata": {
    "collapsed": false,
    "pycharm": {
     "name": "#%%\n",
     "is_executing": true
    }
   }
  }
 ],
 "metadata": {
  "kernelspec": {
   "display_name": "Python 3",
   "language": "python",
   "name": "python3"
  },
  "language_info": {
   "codemirror_mode": {
    "name": "ipython",
    "version": 2
   },
   "file_extension": ".py",
   "mimetype": "text/x-python",
   "name": "python",
   "nbconvert_exporter": "python",
   "pygments_lexer": "ipython2",
   "version": "2.7.6"
  }
 },
 "nbformat": 4,
 "nbformat_minor": 0
}