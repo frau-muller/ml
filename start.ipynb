{
 "cells": [],
 "metadata": {
  "kernelspec": {
   "display_name": "Python 3",
   "language": "python",
   "name": "python3"
  },
  "language_info": {
   "codemirror_mode": {
    "name": "ipython",
    "version": 2
   },
   "file_extension": ".py",
   "mimetype": "text/x-python",
   "name": "python",
   "nbconvert_exporter": "python",
   "pygments_lexer": "ipython2",
   "version": "2.7.6"
  },
  "pycharm": {
   "stem_cell": {
    "cell_type": "raw",
    "source": [
     "weight  = 0.1\n",
     "\n",
     "def neural_network(input, weight):\n",
     "    prediction = input * weight\n",
     "    return prediction\n",
     "\n",
     "number_of_toes = [8.5, 9.5, 10, 9]\n",
     "input = number_of_toes[0]\n",
     "pred = neural_network(input,weight)\n",
     "print(pred)"
    ],
    "metadata": {
     "collapsed": false
    }
   }
  }
 },
 "nbformat": 4,
 "nbformat_minor": 0
}