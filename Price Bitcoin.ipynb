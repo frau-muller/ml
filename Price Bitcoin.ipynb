{
 "cells": [
  {
   "cell_type": "code",
   "execution_count": 1,
   "metadata": {
    "collapsed": true
   },
   "outputs": [],
   "source": [
    "import pandas as pd\n",
    "from sklearn.linear_model import LinearRegression\n",
    "from sklearn.model_selection import train_test_split\n",
    "import numpy as np"
   ]
  },
  {
   "cell_type": "code",
   "execution_count": 2,
   "outputs": [],
   "source": [
    "df=pd.read_csv('bitcoin.csv')"
   ],
   "metadata": {
    "collapsed": false,
    "pycharm": {
     "name": "#%%\n"
    }
   }
  },
  {
   "cell_type": "code",
   "execution_count": 3,
   "outputs": [
    {
     "data": {
      "text/plain": "   Unnamed: 0        time    high     low    open  volumefrom     volumeto  \\\n0           0  2015-12-20  462.76  431.10  461.20   121531.64  54316484.95   \n1           1  2015-12-21  445.54  423.99  441.78   121990.88  53270215.60   \n2           2  2015-12-22  443.22  433.25  437.59    65785.54  28845536.39   \n3           3  2015-12-23  444.78  434.28  437.03    63247.04  27877349.10   \n4           4  2015-12-24  460.62  441.76  442.43    79604.01  36096662.15   \n\n    close  \n0  441.78  \n1  437.59  \n2  437.03  \n3  442.43  \n4  452.98  ",
      "text/html": "<div>\n<style scoped>\n    .dataframe tbody tr th:only-of-type {\n        vertical-align: middle;\n    }\n\n    .dataframe tbody tr th {\n        vertical-align: top;\n    }\n\n    .dataframe thead th {\n        text-align: right;\n    }\n</style>\n<table border=\"1\" class=\"dataframe\">\n  <thead>\n    <tr style=\"text-align: right;\">\n      <th></th>\n      <th>Unnamed: 0</th>\n      <th>time</th>\n      <th>high</th>\n      <th>low</th>\n      <th>open</th>\n      <th>volumefrom</th>\n      <th>volumeto</th>\n      <th>close</th>\n    </tr>\n  </thead>\n  <tbody>\n    <tr>\n      <th>0</th>\n      <td>0</td>\n      <td>2015-12-20</td>\n      <td>462.76</td>\n      <td>431.10</td>\n      <td>461.20</td>\n      <td>121531.64</td>\n      <td>54316484.95</td>\n      <td>441.78</td>\n    </tr>\n    <tr>\n      <th>1</th>\n      <td>1</td>\n      <td>2015-12-21</td>\n      <td>445.54</td>\n      <td>423.99</td>\n      <td>441.78</td>\n      <td>121990.88</td>\n      <td>53270215.60</td>\n      <td>437.59</td>\n    </tr>\n    <tr>\n      <th>2</th>\n      <td>2</td>\n      <td>2015-12-22</td>\n      <td>443.22</td>\n      <td>433.25</td>\n      <td>437.59</td>\n      <td>65785.54</td>\n      <td>28845536.39</td>\n      <td>437.03</td>\n    </tr>\n    <tr>\n      <th>3</th>\n      <td>3</td>\n      <td>2015-12-23</td>\n      <td>444.78</td>\n      <td>434.28</td>\n      <td>437.03</td>\n      <td>63247.04</td>\n      <td>27877349.10</td>\n      <td>442.43</td>\n    </tr>\n    <tr>\n      <th>4</th>\n      <td>4</td>\n      <td>2015-12-24</td>\n      <td>460.62</td>\n      <td>441.76</td>\n      <td>442.43</td>\n      <td>79604.01</td>\n      <td>36096662.15</td>\n      <td>452.98</td>\n    </tr>\n  </tbody>\n</table>\n</div>"
     },
     "execution_count": 3,
     "metadata": {},
     "output_type": "execute_result"
    }
   ],
   "source": [
    "df.head()"
   ],
   "metadata": {
    "collapsed": false,
    "pycharm": {
     "name": "#%%\n"
    }
   }
  },
  {
   "cell_type": "markdown",
   "source": [
    "удаляем колонку unnamed"
   ],
   "metadata": {
    "collapsed": false
   }
  },
  {
   "cell_type": "code",
   "execution_count": 4,
   "outputs": [],
   "source": [
    "df = df.iloc[:, 1:]"
   ],
   "metadata": {
    "collapsed": false,
    "pycharm": {
     "name": "#%%\n"
    }
   }
  },
  {
   "cell_type": "code",
   "execution_count": 5,
   "outputs": [
    {
     "data": {
      "text/plain": "            time      high       low      open  volumefrom      volumeto  \\\n0     2015-12-20    462.76    431.10    461.20   121531.64  5.431648e+07   \n1     2015-12-21    445.54    423.99    441.78   121990.88  5.327022e+07   \n2     2015-12-22    443.22    433.25    437.59    65785.54  2.884554e+07   \n3     2015-12-23    444.78    434.28    437.03    63247.04  2.787735e+07   \n4     2015-12-24    460.62    441.76    442.43    79604.01  3.609666e+07   \n...          ...       ...       ...       ...         ...           ...   \n1996  2021-06-07  36790.39  33367.12  35798.57    52209.55  1.850311e+09   \n1997  2021-06-08  34061.09  31034.35  33582.86    88483.79  2.890313e+09   \n1998  2021-06-09  37528.42  32435.18  33409.38    92280.57  3.249554e+09   \n1999  2021-06-10  38387.20  35821.05  37391.58    63052.49  2.338112e+09   \n2000  2021-06-11  37665.85  35981.84  36680.78    33418.02  1.235391e+09   \n\n         close  \n0       441.78  \n1       437.59  \n2       437.03  \n3       442.43  \n4       452.98  \n...        ...  \n1996  33582.86  \n1997  33409.38  \n1998  37391.58  \n1999  36680.78  \n2000  36843.33  \n\n[2001 rows x 7 columns]",
      "text/html": "<div>\n<style scoped>\n    .dataframe tbody tr th:only-of-type {\n        vertical-align: middle;\n    }\n\n    .dataframe tbody tr th {\n        vertical-align: top;\n    }\n\n    .dataframe thead th {\n        text-align: right;\n    }\n</style>\n<table border=\"1\" class=\"dataframe\">\n  <thead>\n    <tr style=\"text-align: right;\">\n      <th></th>\n      <th>time</th>\n      <th>high</th>\n      <th>low</th>\n      <th>open</th>\n      <th>volumefrom</th>\n      <th>volumeto</th>\n      <th>close</th>\n    </tr>\n  </thead>\n  <tbody>\n    <tr>\n      <th>0</th>\n      <td>2015-12-20</td>\n      <td>462.76</td>\n      <td>431.10</td>\n      <td>461.20</td>\n      <td>121531.64</td>\n      <td>5.431648e+07</td>\n      <td>441.78</td>\n    </tr>\n    <tr>\n      <th>1</th>\n      <td>2015-12-21</td>\n      <td>445.54</td>\n      <td>423.99</td>\n      <td>441.78</td>\n      <td>121990.88</td>\n      <td>5.327022e+07</td>\n      <td>437.59</td>\n    </tr>\n    <tr>\n      <th>2</th>\n      <td>2015-12-22</td>\n      <td>443.22</td>\n      <td>433.25</td>\n      <td>437.59</td>\n      <td>65785.54</td>\n      <td>2.884554e+07</td>\n      <td>437.03</td>\n    </tr>\n    <tr>\n      <th>3</th>\n      <td>2015-12-23</td>\n      <td>444.78</td>\n      <td>434.28</td>\n      <td>437.03</td>\n      <td>63247.04</td>\n      <td>2.787735e+07</td>\n      <td>442.43</td>\n    </tr>\n    <tr>\n      <th>4</th>\n      <td>2015-12-24</td>\n      <td>460.62</td>\n      <td>441.76</td>\n      <td>442.43</td>\n      <td>79604.01</td>\n      <td>3.609666e+07</td>\n      <td>452.98</td>\n    </tr>\n    <tr>\n      <th>...</th>\n      <td>...</td>\n      <td>...</td>\n      <td>...</td>\n      <td>...</td>\n      <td>...</td>\n      <td>...</td>\n      <td>...</td>\n    </tr>\n    <tr>\n      <th>1996</th>\n      <td>2021-06-07</td>\n      <td>36790.39</td>\n      <td>33367.12</td>\n      <td>35798.57</td>\n      <td>52209.55</td>\n      <td>1.850311e+09</td>\n      <td>33582.86</td>\n    </tr>\n    <tr>\n      <th>1997</th>\n      <td>2021-06-08</td>\n      <td>34061.09</td>\n      <td>31034.35</td>\n      <td>33582.86</td>\n      <td>88483.79</td>\n      <td>2.890313e+09</td>\n      <td>33409.38</td>\n    </tr>\n    <tr>\n      <th>1998</th>\n      <td>2021-06-09</td>\n      <td>37528.42</td>\n      <td>32435.18</td>\n      <td>33409.38</td>\n      <td>92280.57</td>\n      <td>3.249554e+09</td>\n      <td>37391.58</td>\n    </tr>\n    <tr>\n      <th>1999</th>\n      <td>2021-06-10</td>\n      <td>38387.20</td>\n      <td>35821.05</td>\n      <td>37391.58</td>\n      <td>63052.49</td>\n      <td>2.338112e+09</td>\n      <td>36680.78</td>\n    </tr>\n    <tr>\n      <th>2000</th>\n      <td>2021-06-11</td>\n      <td>37665.85</td>\n      <td>35981.84</td>\n      <td>36680.78</td>\n      <td>33418.02</td>\n      <td>1.235391e+09</td>\n      <td>36843.33</td>\n    </tr>\n  </tbody>\n</table>\n<p>2001 rows × 7 columns</p>\n</div>"
     },
     "execution_count": 5,
     "metadata": {},
     "output_type": "execute_result"
    }
   ],
   "source": [
    "df"
   ],
   "metadata": {
    "collapsed": false,
    "pycharm": {
     "name": "#%%\n"
    }
   }
  },
  {
   "cell_type": "markdown",
   "source": [
    "предсказание криптовалюты в течении 14 дней"
   ],
   "metadata": {
    "collapsed": false
   }
  },
  {
   "cell_type": "code",
   "execution_count": 6,
   "outputs": [
    {
     "data": {
      "text/plain": "            time      high       low      open  volumefrom      volumeto  \\\n0     2015-12-20    462.76    431.10    461.20   121531.64  5.431648e+07   \n1     2015-12-21    445.54    423.99    441.78   121990.88  5.327022e+07   \n2     2015-12-22    443.22    433.25    437.59    65785.54  2.884554e+07   \n3     2015-12-23    444.78    434.28    437.03    63247.04  2.787735e+07   \n4     2015-12-24    460.62    441.76    442.43    79604.01  3.609666e+07   \n...          ...       ...       ...       ...         ...           ...   \n1996  2021-06-07  36790.39  33367.12  35798.57    52209.55  1.850311e+09   \n1997  2021-06-08  34061.09  31034.35  33582.86    88483.79  2.890313e+09   \n1998  2021-06-09  37528.42  32435.18  33409.38    92280.57  3.249554e+09   \n1999  2021-06-10  38387.20  35821.05  37391.58    63052.49  2.338112e+09   \n2000  2021-06-11  37665.85  35981.84  36680.78    33418.02  1.235391e+09   \n\n         close  predict  \n0       441.78   430.70  \n1       437.59   433.32  \n2       437.03   431.20  \n3       442.43   430.82  \n4       452.98   457.05  \n...        ...      ...  \n1996  33582.86      NaN  \n1997  33409.38      NaN  \n1998  37391.58      NaN  \n1999  36680.78      NaN  \n2000  36843.33      NaN  \n\n[2001 rows x 8 columns]",
      "text/html": "<div>\n<style scoped>\n    .dataframe tbody tr th:only-of-type {\n        vertical-align: middle;\n    }\n\n    .dataframe tbody tr th {\n        vertical-align: top;\n    }\n\n    .dataframe thead th {\n        text-align: right;\n    }\n</style>\n<table border=\"1\" class=\"dataframe\">\n  <thead>\n    <tr style=\"text-align: right;\">\n      <th></th>\n      <th>time</th>\n      <th>high</th>\n      <th>low</th>\n      <th>open</th>\n      <th>volumefrom</th>\n      <th>volumeto</th>\n      <th>close</th>\n      <th>predict</th>\n    </tr>\n  </thead>\n  <tbody>\n    <tr>\n      <th>0</th>\n      <td>2015-12-20</td>\n      <td>462.76</td>\n      <td>431.10</td>\n      <td>461.20</td>\n      <td>121531.64</td>\n      <td>5.431648e+07</td>\n      <td>441.78</td>\n      <td>430.70</td>\n    </tr>\n    <tr>\n      <th>1</th>\n      <td>2015-12-21</td>\n      <td>445.54</td>\n      <td>423.99</td>\n      <td>441.78</td>\n      <td>121990.88</td>\n      <td>5.327022e+07</td>\n      <td>437.59</td>\n      <td>433.32</td>\n    </tr>\n    <tr>\n      <th>2</th>\n      <td>2015-12-22</td>\n      <td>443.22</td>\n      <td>433.25</td>\n      <td>437.59</td>\n      <td>65785.54</td>\n      <td>2.884554e+07</td>\n      <td>437.03</td>\n      <td>431.20</td>\n    </tr>\n    <tr>\n      <th>3</th>\n      <td>2015-12-23</td>\n      <td>444.78</td>\n      <td>434.28</td>\n      <td>437.03</td>\n      <td>63247.04</td>\n      <td>2.787735e+07</td>\n      <td>442.43</td>\n      <td>430.82</td>\n    </tr>\n    <tr>\n      <th>4</th>\n      <td>2015-12-24</td>\n      <td>460.62</td>\n      <td>441.76</td>\n      <td>442.43</td>\n      <td>79604.01</td>\n      <td>3.609666e+07</td>\n      <td>452.98</td>\n      <td>457.05</td>\n    </tr>\n    <tr>\n      <th>...</th>\n      <td>...</td>\n      <td>...</td>\n      <td>...</td>\n      <td>...</td>\n      <td>...</td>\n      <td>...</td>\n      <td>...</td>\n      <td>...</td>\n    </tr>\n    <tr>\n      <th>1996</th>\n      <td>2021-06-07</td>\n      <td>36790.39</td>\n      <td>33367.12</td>\n      <td>35798.57</td>\n      <td>52209.55</td>\n      <td>1.850311e+09</td>\n      <td>33582.86</td>\n      <td>NaN</td>\n    </tr>\n    <tr>\n      <th>1997</th>\n      <td>2021-06-08</td>\n      <td>34061.09</td>\n      <td>31034.35</td>\n      <td>33582.86</td>\n      <td>88483.79</td>\n      <td>2.890313e+09</td>\n      <td>33409.38</td>\n      <td>NaN</td>\n    </tr>\n    <tr>\n      <th>1998</th>\n      <td>2021-06-09</td>\n      <td>37528.42</td>\n      <td>32435.18</td>\n      <td>33409.38</td>\n      <td>92280.57</td>\n      <td>3.249554e+09</td>\n      <td>37391.58</td>\n      <td>NaN</td>\n    </tr>\n    <tr>\n      <th>1999</th>\n      <td>2021-06-10</td>\n      <td>38387.20</td>\n      <td>35821.05</td>\n      <td>37391.58</td>\n      <td>63052.49</td>\n      <td>2.338112e+09</td>\n      <td>36680.78</td>\n      <td>NaN</td>\n    </tr>\n    <tr>\n      <th>2000</th>\n      <td>2021-06-11</td>\n      <td>37665.85</td>\n      <td>35981.84</td>\n      <td>36680.78</td>\n      <td>33418.02</td>\n      <td>1.235391e+09</td>\n      <td>36843.33</td>\n      <td>NaN</td>\n    </tr>\n  </tbody>\n</table>\n<p>2001 rows × 8 columns</p>\n</div>"
     },
     "execution_count": 6,
     "metadata": {},
     "output_type": "execute_result"
    }
   ],
   "source": [
    "#создадим колонку предикт(предсказание)\n",
    "projection = 14\n",
    "df['predict'] = df['close'].shift(-projection)\n",
    "df"
   ],
   "metadata": {
    "collapsed": false,
    "pycharm": {
     "name": "#%%\n"
    }
   }
  },
  {
   "cell_type": "code",
   "execution_count": 7,
   "outputs": [],
   "source": [
    "#х -данные закрытия 14 дней назад,у-данныеспустя 14 дней\n",
    "X = df[['close']]\n",
    "y = df['predict']"
   ],
   "metadata": {
    "collapsed": false,
    "pycharm": {
     "name": "#%%\n"
    }
   }
  },
  {
   "cell_type": "markdown",
   "source": [
    "делим на тренировочные и тестовые"
   ],
   "metadata": {
    "collapsed": false
   }
  },
  {
   "cell_type": "code",
   "execution_count": 8,
   "outputs": [],
   "source": [
    "#убираем нулевые значения\n",
    "X = X[:-projection]\n",
    "y = y[:-projection]"
   ],
   "metadata": {
    "collapsed": false,
    "pycharm": {
     "name": "#%%\n"
    }
   }
  },
  {
   "cell_type": "code",
   "execution_count": 9,
   "outputs": [],
   "source": [
    "X_train, X_test, y_train, y_test = train_test_split(X,y, test_size = 0.2, random_state = 42)"
   ],
   "metadata": {
    "collapsed": false,
    "pycharm": {
     "name": "#%%\n"
    }
   }
  },
  {
   "cell_type": "code",
   "execution_count": 10,
   "outputs": [],
   "source": [
    "model = LinearRegression()"
   ],
   "metadata": {
    "collapsed": false,
    "pycharm": {
     "name": "#%%\n"
    }
   }
  },
  {
   "cell_type": "code",
   "execution_count": 11,
   "outputs": [
    {
     "data": {
      "text/plain": "LinearRegression()"
     },
     "execution_count": 11,
     "metadata": {},
     "output_type": "execute_result"
    }
   ],
   "source": [
    "model.fit(X_train, y_train)"
   ],
   "metadata": {
    "collapsed": false,
    "pycharm": {
     "name": "#%%\n"
    }
   }
  },
  {
   "cell_type": "markdown",
   "source": [
    "смотрим на солько точнаб передаем данные бкоторые она раньше не видела"
   ],
   "metadata": {
    "collapsed": false
   }
  },
  {
   "cell_type": "code",
   "execution_count": 12,
   "outputs": [
    {
     "data": {
      "text/plain": "0.9553708871365949"
     },
     "execution_count": 12,
     "metadata": {},
     "output_type": "execute_result"
    }
   ],
   "source": [
    "model.score(X_test, y_test)"
   ],
   "metadata": {
    "collapsed": false,
    "pycharm": {
     "name": "#%%\n"
    }
   }
  },
  {
   "cell_type": "code",
   "execution_count": 13,
   "outputs": [
    {
     "data": {
      "text/plain": "         close\n1987  34611.58\n1988  35662.59\n1989  37290.83\n1990  36683.51\n1991  37576.98\n1992  39229.66\n1993  36861.50\n1994  35538.40\n1995  35798.57\n1996  33582.86\n1997  33409.38\n1998  37391.58\n1999  36680.78\n2000  36843.33",
      "text/html": "<div>\n<style scoped>\n    .dataframe tbody tr th:only-of-type {\n        vertical-align: middle;\n    }\n\n    .dataframe tbody tr th {\n        vertical-align: top;\n    }\n\n    .dataframe thead th {\n        text-align: right;\n    }\n</style>\n<table border=\"1\" class=\"dataframe\">\n  <thead>\n    <tr style=\"text-align: right;\">\n      <th></th>\n      <th>close</th>\n    </tr>\n  </thead>\n  <tbody>\n    <tr>\n      <th>1987</th>\n      <td>34611.58</td>\n    </tr>\n    <tr>\n      <th>1988</th>\n      <td>35662.59</td>\n    </tr>\n    <tr>\n      <th>1989</th>\n      <td>37290.83</td>\n    </tr>\n    <tr>\n      <th>1990</th>\n      <td>36683.51</td>\n    </tr>\n    <tr>\n      <th>1991</th>\n      <td>37576.98</td>\n    </tr>\n    <tr>\n      <th>1992</th>\n      <td>39229.66</td>\n    </tr>\n    <tr>\n      <th>1993</th>\n      <td>36861.50</td>\n    </tr>\n    <tr>\n      <th>1994</th>\n      <td>35538.40</td>\n    </tr>\n    <tr>\n      <th>1995</th>\n      <td>35798.57</td>\n    </tr>\n    <tr>\n      <th>1996</th>\n      <td>33582.86</td>\n    </tr>\n    <tr>\n      <th>1997</th>\n      <td>33409.38</td>\n    </tr>\n    <tr>\n      <th>1998</th>\n      <td>37391.58</td>\n    </tr>\n    <tr>\n      <th>1999</th>\n      <td>36680.78</td>\n    </tr>\n    <tr>\n      <th>2000</th>\n      <td>36843.33</td>\n    </tr>\n  </tbody>\n</table>\n</div>"
     },
     "execution_count": 13,
     "metadata": {},
     "output_type": "execute_result"
    }
   ],
   "source": [
    "df[['close']][-projection:]"
   ],
   "metadata": {
    "collapsed": false,
    "pycharm": {
     "name": "#%%\n"
    }
   }
  },
  {
   "cell_type": "code",
   "execution_count": 14,
   "outputs": [
    {
     "data": {
      "text/plain": "array([34547.03723837, 35585.78243465, 37195.02162209, 36594.7887674 ,\n       37477.83238308, 39111.22636695, 36770.70170589, 35463.04167488,\n       35720.17561054, 33530.32192803, 33358.86635991, 37294.59591588,\n       36592.09062524, 36752.74374144])"
     },
     "execution_count": 14,
     "metadata": {},
     "output_type": "execute_result"
    }
   ],
   "source": [
    "#предсказание\n",
    "model.predict(df[['close']][-projection:])"
   ],
   "metadata": {
    "collapsed": false,
    "pycharm": {
     "name": "#%%\n"
    }
   }
  },
  {
   "cell_type": "code",
   "execution_count": 15,
   "outputs": [
    {
     "data": {
      "text/plain": "1987    34611.58\n1988    35662.59\n1989    37290.83\n1990    36683.51\n1991    37576.98\n1992    39229.66\n1993    36861.50\n1994    35538.40\n1995    35798.57\n1996    33582.86\n1997    33409.38\n1998    37391.58\n1999    36680.78\n2000    36843.33\nName: close, dtype: float64"
     },
     "execution_count": 15,
     "metadata": {},
     "output_type": "execute_result"
    }
   ],
   "source": [
    "#было\n",
    "df['close'][-projection:]"
   ],
   "metadata": {
    "collapsed": false,
    "pycharm": {
     "name": "#%%\n"
    }
   }
  }
 ],
 "metadata": {
  "kernelspec": {
   "display_name": "Python 3",
   "language": "python",
   "name": "python3"
  },
  "language_info": {
   "codemirror_mode": {
    "name": "ipython",
    "version": 2
   },
   "file_extension": ".py",
   "mimetype": "text/x-python",
   "name": "python",
   "nbconvert_exporter": "python",
   "pygments_lexer": "ipython2",
   "version": "2.7.6"
  }
 },
 "nbformat": 4,
 "nbformat_minor": 0
}